{
  "nbformat": 4,
  "nbformat_minor": 0,
  "metadata": {
    "accelerator": "GPU",
    "colab": {
      "name": "Copy of Covid Analysis.ipynb",
      "provenance": [],
      "collapsed_sections": []
    },
    "kernelspec": {
      "display_name": "Python 3",
      "name": "python3"
    }
  },
  "cells": [
    {
      "cell_type": "code",
      "metadata": {
        "id": "WbnXYnwQtRIw"
      },
      "source": [
        "import pandas as pd"
      ],
      "execution_count": null,
      "outputs": []
    },
    {
      "cell_type": "code",
      "metadata": {
        "id": "mFjPwyPetk6x"
      },
      "source": [
        "dataset = pd.read_csv(\"/content/covid_new.csv\")\n",
        "data = pd.read_csv(\"/content/covid_new.csv\")\n"
      ],
      "execution_count": null,
      "outputs": []
    },
    {
      "cell_type": "code",
      "metadata": {
        "id": "IawXNnnpuDnf",
        "colab": {
          "base_uri": "https://localhost:8080/",
          "height": 34
        },
        "outputId": "a21b69e2-f604-4b4d-b5cf-55cfb6ea9ada"
      },
      "source": [
        "dataset.isnull().any().any()"
      ],
      "execution_count": null,
      "outputs": [
        {
          "output_type": "execute_result",
          "data": {
            "text/plain": [
              "False"
            ]
          },
          "metadata": {
            "tags": []
          },
          "execution_count": 5
        }
      ]
    },
    {
      "cell_type": "code",
      "metadata": {
        "id": "GEU-RPGzxCVJ",
        "colab": {
          "base_uri": "https://localhost:8080/",
          "height": 34
        },
        "outputId": "776da3d7-1e80-4083-b6f4-529c1b7d6d96"
      },
      "source": [
        "type(dataset)"
      ],
      "execution_count": null,
      "outputs": [
        {
          "output_type": "execute_result",
          "data": {
            "text/plain": [
              "pandas.core.frame.DataFrame"
            ]
          },
          "metadata": {
            "tags": []
          },
          "execution_count": 6
        }
      ]
    },
    {
      "cell_type": "code",
      "metadata": {
        "id": "R7AWai9P0IUi",
        "colab": {
          "base_uri": "https://localhost:8080/",
          "height": 253
        },
        "outputId": "ec0d4a66-3b65-46ec-8e38-a116c876322e"
      },
      "source": [
        "dataset.describe()"
      ],
      "execution_count": null,
      "outputs": [
        {
          "output_type": "execute_result",
          "data": {
            "text/html": [
              "<div>\n",
              "<style scoped>\n",
              "    .dataframe tbody tr th:only-of-type {\n",
              "        vertical-align: middle;\n",
              "    }\n",
              "\n",
              "    .dataframe tbody tr th {\n",
              "        vertical-align: top;\n",
              "    }\n",
              "\n",
              "    .dataframe thead th {\n",
              "        text-align: right;\n",
              "    }\n",
              "</style>\n",
              "<table border=\"1\" class=\"dataframe\">\n",
              "  <thead>\n",
              "    <tr style=\"text-align: right;\">\n",
              "      <th></th>\n",
              "      <th>Gender</th>\n",
              "      <th>Standard</th>\n",
              "      <th>Institute</th>\n",
              "      <th>Subject</th>\n",
              "      <th>Performance</th>\n",
              "      <th>Before_covid</th>\n",
              "      <th>During_covid</th>\n",
              "      <th>During_online</th>\n",
              "      <th>Online_with_instructions</th>\n",
              "      <th>Online_without_instructions</th>\n",
              "      <th>During_offline</th>\n",
              "      <th>Offline_with_instructions</th>\n",
              "      <th>Offline_without_instructions</th>\n",
              "      <th>Assurance</th>\n",
              "    </tr>\n",
              "  </thead>\n",
              "  <tbody>\n",
              "    <tr>\n",
              "      <th>count</th>\n",
              "      <td>648</td>\n",
              "      <td>648</td>\n",
              "      <td>648</td>\n",
              "      <td>648</td>\n",
              "      <td>648</td>\n",
              "      <td>648</td>\n",
              "      <td>648</td>\n",
              "      <td>648</td>\n",
              "      <td>648</td>\n",
              "      <td>648</td>\n",
              "      <td>648</td>\n",
              "      <td>648</td>\n",
              "      <td>648</td>\n",
              "      <td>648</td>\n",
              "    </tr>\n",
              "    <tr>\n",
              "      <th>unique</th>\n",
              "      <td>2</td>\n",
              "      <td>3</td>\n",
              "      <td>3</td>\n",
              "      <td>5</td>\n",
              "      <td>4</td>\n",
              "      <td>3</td>\n",
              "      <td>3</td>\n",
              "      <td>5</td>\n",
              "      <td>3</td>\n",
              "      <td>3</td>\n",
              "      <td>3</td>\n",
              "      <td>3</td>\n",
              "      <td>3</td>\n",
              "      <td>5</td>\n",
              "    </tr>\n",
              "    <tr>\n",
              "      <th>top</th>\n",
              "      <td>Male</td>\n",
              "      <td>College Level ( 1st /2nd /3rd /4th ) year</td>\n",
              "      <td>Private</td>\n",
              "      <td>Technical</td>\n",
              "      <td>Good</td>\n",
              "      <td>less than  4 hrs</td>\n",
              "      <td>less than  4 hrs</td>\n",
              "      <td>4-7 hrs</td>\n",
              "      <td>4-7 hrs</td>\n",
              "      <td>less than 4 hrs</td>\n",
              "      <td>less than 4 hrs</td>\n",
              "      <td>less than 4 hrs</td>\n",
              "      <td>less than 4 hrs</td>\n",
              "      <td>Agree</td>\n",
              "    </tr>\n",
              "    <tr>\n",
              "      <th>freq</th>\n",
              "      <td>373</td>\n",
              "      <td>631</td>\n",
              "      <td>505</td>\n",
              "      <td>430</td>\n",
              "      <td>333</td>\n",
              "      <td>429</td>\n",
              "      <td>352</td>\n",
              "      <td>406</td>\n",
              "      <td>428</td>\n",
              "      <td>477</td>\n",
              "      <td>520</td>\n",
              "      <td>515</td>\n",
              "      <td>519</td>\n",
              "      <td>351</td>\n",
              "    </tr>\n",
              "  </tbody>\n",
              "</table>\n",
              "</div>"
            ],
            "text/plain": [
              "       Gender  ... Assurance\n",
              "count     648  ...       648\n",
              "unique      2  ...         5\n",
              "top      Male  ...     Agree\n",
              "freq      373  ...       351\n",
              "\n",
              "[4 rows x 14 columns]"
            ]
          },
          "metadata": {
            "tags": []
          },
          "execution_count": 7
        }
      ]
    },
    {
      "cell_type": "markdown",
      "metadata": {
        "id": "1f0b8CPb4jPP"
      },
      "source": [
        "Find the unique values from categorical features"
      ]
    },
    {
      "cell_type": "code",
      "metadata": {
        "id": "lo2jdSTB33oH"
      },
      "source": [
        "import seaborn as sns"
      ],
      "execution_count": null,
      "outputs": []
    },
    {
      "cell_type": "code",
      "metadata": {
        "id": "wVIfggNa306E",
        "colab": {
          "base_uri": "https://localhost:8080/",
          "height": 269
        },
        "outputId": "94aa8f4b-995c-469c-d4c8-621c7abc6c12"
      },
      "source": [
        "dataset.dtypes"
      ],
      "execution_count": null,
      "outputs": [
        {
          "output_type": "execute_result",
          "data": {
            "text/plain": [
              "Gender                          object\n",
              "Standard                        object\n",
              "Institute                       object\n",
              "Subject                         object\n",
              "Performance                     object\n",
              "Before_covid                    object\n",
              "During_covid                    object\n",
              "During_online                   object\n",
              "Online_with_instructions        object\n",
              "Online_without_instructions     object\n",
              "During_offline                  object\n",
              "Offline_with_instructions       object\n",
              "Offline_without_instructions    object\n",
              "Assurance                       object\n",
              "dtype: object"
            ]
          },
          "metadata": {
            "tags": []
          },
          "execution_count": 9
        }
      ]
    },
    {
      "cell_type": "code",
      "metadata": {
        "id": "XDdE3KKy40RJ"
      },
      "source": [
        "dataset['During_online'].replace(to_replace=r'1', value='less than 4 hrs',inplace = True)\n",
        "data['During_online'].replace(to_replace=r'1', value='less than 4 hrs',inplace = True)"
      ],
      "execution_count": null,
      "outputs": []
    },
    {
      "cell_type": "code",
      "metadata": {
        "id": "gtRltZ4BKu2d"
      },
      "source": [
        "dataset['During_online'].replace(to_replace=r'3 hrs', value='less than 4 hrs',inplace = True)\n",
        "data['During_online'].replace(to_replace=r'3 hrs', value='less than 4 hrs',inplace = True)"
      ],
      "execution_count": null,
      "outputs": []
    },
    {
      "cell_type": "code",
      "metadata": {
        "id": "bPblyu1F3uJ2",
        "colab": {
          "base_uri": "https://localhost:8080/",
          "height": 504
        },
        "outputId": "f43f058e-c975-451d-b872-159dd61cf465"
      },
      "source": [
        "for column in dataset.select_dtypes(include='object').columns:\n",
        "    print(column)\n",
        "    \n",
        "    print(dataset[column].unique())"
      ],
      "execution_count": null,
      "outputs": [
        {
          "output_type": "stream",
          "text": [
            "Gender\n",
            "['Female' 'Male']\n",
            "Standard\n",
            "['College Level ( 1st /2nd /3rd /4th ) year' '09-Dec' '05-Aug']\n",
            "Institute\n",
            "['Public' 'Private' 'International']\n",
            "Subject\n",
            "['Technical' 'Science' 'Commerce' 'Arts' 'Medical']\n",
            "Performance\n",
            "['Excellent' 'Good' 'Average' 'Below Average']\n",
            "Before_covid\n",
            "['less than  4 hrs' '4-7 hrs' 'above 7 hrs']\n",
            "During_covid\n",
            "['4-7 hrs' 'less than  4 hrs' 'above 7 hrs']\n",
            "During_online\n",
            "['above 7 hrs' 'less than 4 hrs' '4-7 hrs']\n",
            "Online_with_instructions\n",
            "['4-7 hrs' 'less than 4 hrs' 'above 7 hrs']\n",
            "Online_without_instructions\n",
            "['4-7 hrs' 'less than 4 hrs' 'above 7 hrs']\n",
            "During_offline\n",
            "['less than 4 hrs' '4-7 hrs' 'above 7 hrs']\n",
            "Offline_with_instructions\n",
            "['less than 4 hrs' '4-7 hrs' 'above 7 hrs']\n",
            "Offline_without_instructions\n",
            "['4-7 hrs' 'less than 4 hrs' 'above 7 hrs']\n",
            "Assurance\n",
            "['Agree' 'Neither agree nor disagree' 'Strongly Agree' 'Disagree'\n",
            " 'Strongly disagree']\n"
          ],
          "name": "stdout"
        }
      ]
    },
    {
      "cell_type": "code",
      "metadata": {
        "id": "TNp5WVMrw2Mo"
      },
      "source": [
        "dict_gen = {'Male':0,                           #replacing the string with values\n",
        "         'Female':1}\n",
        "data['Gender'].replace(dict_gen,inplace=True)"
      ],
      "execution_count": null,
      "outputs": []
    },
    {
      "cell_type": "code",
      "metadata": {
        "id": "NAC5L_JQo4Qx"
      },
      "source": [
        "dict_std = {'05-Aug':0,                           #replacing the string with values\n",
        "         '09-Dec':1,\n",
        "          'College Level ( 1st /2nd /3rd /4th ) year':2}\n",
        "data['Standard'].replace(dict_std,inplace=True)"
      ],
      "execution_count": null,
      "outputs": []
    },
    {
      "cell_type": "code",
      "metadata": {
        "id": "40geAr4npcKX"
      },
      "source": [
        "dict_std = {'Public':0,                           #replacing the string with values\n",
        "         'Private':1,\n",
        "          'International':2}\n",
        "data['Institute'].replace(dict_std,inplace=True)"
      ],
      "execution_count": null,
      "outputs": []
    },
    {
      "cell_type": "code",
      "metadata": {
        "id": "H0jS2-v1pcSH"
      },
      "source": [
        "dict_sub = {'Technical':3,                           #replacing the string with values\n",
        "         'Science':0,\n",
        "          'Commerce':2,\n",
        "          'Arts':1,\n",
        "          'Medical':4}\n",
        "data['Subject'].replace(dict_sub,inplace=True)"
      ],
      "execution_count": null,
      "outputs": []
    },
    {
      "cell_type": "code",
      "metadata": {
        "id": "EMgne_cgqbvf"
      },
      "source": [
        "dict_per = {'Excellent':3,                           #replacing the string with values\n",
        "         'Good':2,\n",
        "          'Average':1,\n",
        "          'Below Average':0}\n",
        "data['Performance'].replace(dict_per,inplace=True)"
      ],
      "execution_count": null,
      "outputs": []
    },
    {
      "cell_type": "code",
      "metadata": {
        "id": "6XtaW2aDrBmC"
      },
      "source": [
        "dict_hr = {'less than  4 hrs':0,                           #replacing the string with values\n",
        "         '4-7 hrs':1,\n",
        "          'above 7 hrs':2}\n",
        "data['Before_covid'].replace(dict_hr,inplace=True)\n",
        "data['During_covid'].replace(dict_hr,inplace=True)"
      ],
      "execution_count": null,
      "outputs": []
    },
    {
      "cell_type": "code",
      "metadata": {
        "id": "DpbUQfQzu-bb"
      },
      "source": [
        "dict_hr = {'less than 4 hrs':0,                           #replacing the string with values\n",
        "         '4-7 hrs':1,\n",
        "          'above 7 hrs':2}\n",
        "data['During_online'].replace(dict_hr,inplace=True)\n",
        "data['Online_with_instructions'].replace(dict_hr,inplace=True)\n",
        "data['Online_without_instructions'].replace(dict_hr,inplace=True)\n",
        "data['During_offline'].replace(dict_hr,inplace=True)\n",
        "data['Offline_with_instructions'].replace(dict_hr,inplace=True)\n",
        "data['Offline_without_instructions'].replace(dict_hr,inplace=True)"
      ],
      "execution_count": null,
      "outputs": []
    },
    {
      "cell_type": "code",
      "metadata": {
        "id": "l0sfos1lrBtA"
      },
      "source": [
        "dict_as = {'Agree':3,                           #replacing the string with values\n",
        "         'Neither agree nor disagree':2,\n",
        "          'Strongly Agree':4,\n",
        "          'Disagree':1,\n",
        "           'Strongly disagree':0}\n",
        "data['Assurance'].replace(dict_as,inplace=True)"
      ],
      "execution_count": null,
      "outputs": []
    },
    {
      "cell_type": "code",
      "metadata": {
        "id": "1c3gkhcLtZ7-",
        "colab": {
          "base_uri": "https://localhost:8080/",
          "height": 511
        },
        "outputId": "b7be774d-2fc4-4727-b7e3-065b83962433"
      },
      "source": [
        "data.head(15)"
      ],
      "execution_count": null,
      "outputs": [
        {
          "output_type": "execute_result",
          "data": {
            "text/html": [
              "<div>\n",
              "<style scoped>\n",
              "    .dataframe tbody tr th:only-of-type {\n",
              "        vertical-align: middle;\n",
              "    }\n",
              "\n",
              "    .dataframe tbody tr th {\n",
              "        vertical-align: top;\n",
              "    }\n",
              "\n",
              "    .dataframe thead th {\n",
              "        text-align: right;\n",
              "    }\n",
              "</style>\n",
              "<table border=\"1\" class=\"dataframe\">\n",
              "  <thead>\n",
              "    <tr style=\"text-align: right;\">\n",
              "      <th></th>\n",
              "      <th>Gender</th>\n",
              "      <th>Standard</th>\n",
              "      <th>Institute</th>\n",
              "      <th>Subject</th>\n",
              "      <th>Performance</th>\n",
              "      <th>Before_covid</th>\n",
              "      <th>During_covid</th>\n",
              "      <th>During_online</th>\n",
              "      <th>Online_with_instructions</th>\n",
              "      <th>Online_without_instructions</th>\n",
              "      <th>During_offline</th>\n",
              "      <th>Offline_with_instructions</th>\n",
              "      <th>Offline_without_instructions</th>\n",
              "      <th>Assurance</th>\n",
              "    </tr>\n",
              "  </thead>\n",
              "  <tbody>\n",
              "    <tr>\n",
              "      <th>0</th>\n",
              "      <td>1</td>\n",
              "      <td>2</td>\n",
              "      <td>0</td>\n",
              "      <td>3</td>\n",
              "      <td>3</td>\n",
              "      <td>0</td>\n",
              "      <td>1</td>\n",
              "      <td>2</td>\n",
              "      <td>1</td>\n",
              "      <td>1</td>\n",
              "      <td>0</td>\n",
              "      <td>0</td>\n",
              "      <td>1</td>\n",
              "      <td>3</td>\n",
              "    </tr>\n",
              "    <tr>\n",
              "      <th>1</th>\n",
              "      <td>0</td>\n",
              "      <td>2</td>\n",
              "      <td>1</td>\n",
              "      <td>0</td>\n",
              "      <td>3</td>\n",
              "      <td>1</td>\n",
              "      <td>0</td>\n",
              "      <td>0</td>\n",
              "      <td>0</td>\n",
              "      <td>0</td>\n",
              "      <td>1</td>\n",
              "      <td>0</td>\n",
              "      <td>1</td>\n",
              "      <td>3</td>\n",
              "    </tr>\n",
              "    <tr>\n",
              "      <th>2</th>\n",
              "      <td>1</td>\n",
              "      <td>2</td>\n",
              "      <td>1</td>\n",
              "      <td>2</td>\n",
              "      <td>2</td>\n",
              "      <td>0</td>\n",
              "      <td>0</td>\n",
              "      <td>1</td>\n",
              "      <td>1</td>\n",
              "      <td>0</td>\n",
              "      <td>0</td>\n",
              "      <td>0</td>\n",
              "      <td>0</td>\n",
              "      <td>2</td>\n",
              "    </tr>\n",
              "    <tr>\n",
              "      <th>3</th>\n",
              "      <td>1</td>\n",
              "      <td>2</td>\n",
              "      <td>1</td>\n",
              "      <td>2</td>\n",
              "      <td>2</td>\n",
              "      <td>0</td>\n",
              "      <td>0</td>\n",
              "      <td>0</td>\n",
              "      <td>1</td>\n",
              "      <td>0</td>\n",
              "      <td>0</td>\n",
              "      <td>1</td>\n",
              "      <td>0</td>\n",
              "      <td>2</td>\n",
              "    </tr>\n",
              "    <tr>\n",
              "      <th>4</th>\n",
              "      <td>0</td>\n",
              "      <td>2</td>\n",
              "      <td>1</td>\n",
              "      <td>2</td>\n",
              "      <td>2</td>\n",
              "      <td>0</td>\n",
              "      <td>0</td>\n",
              "      <td>0</td>\n",
              "      <td>1</td>\n",
              "      <td>0</td>\n",
              "      <td>0</td>\n",
              "      <td>0</td>\n",
              "      <td>0</td>\n",
              "      <td>3</td>\n",
              "    </tr>\n",
              "    <tr>\n",
              "      <th>5</th>\n",
              "      <td>1</td>\n",
              "      <td>2</td>\n",
              "      <td>1</td>\n",
              "      <td>2</td>\n",
              "      <td>2</td>\n",
              "      <td>1</td>\n",
              "      <td>1</td>\n",
              "      <td>0</td>\n",
              "      <td>0</td>\n",
              "      <td>0</td>\n",
              "      <td>0</td>\n",
              "      <td>0</td>\n",
              "      <td>0</td>\n",
              "      <td>2</td>\n",
              "    </tr>\n",
              "    <tr>\n",
              "      <th>6</th>\n",
              "      <td>0</td>\n",
              "      <td>2</td>\n",
              "      <td>1</td>\n",
              "      <td>2</td>\n",
              "      <td>1</td>\n",
              "      <td>0</td>\n",
              "      <td>1</td>\n",
              "      <td>1</td>\n",
              "      <td>1</td>\n",
              "      <td>0</td>\n",
              "      <td>2</td>\n",
              "      <td>1</td>\n",
              "      <td>1</td>\n",
              "      <td>3</td>\n",
              "    </tr>\n",
              "    <tr>\n",
              "      <th>7</th>\n",
              "      <td>0</td>\n",
              "      <td>2</td>\n",
              "      <td>1</td>\n",
              "      <td>2</td>\n",
              "      <td>2</td>\n",
              "      <td>0</td>\n",
              "      <td>0</td>\n",
              "      <td>1</td>\n",
              "      <td>1</td>\n",
              "      <td>0</td>\n",
              "      <td>0</td>\n",
              "      <td>0</td>\n",
              "      <td>0</td>\n",
              "      <td>3</td>\n",
              "    </tr>\n",
              "    <tr>\n",
              "      <th>8</th>\n",
              "      <td>1</td>\n",
              "      <td>2</td>\n",
              "      <td>1</td>\n",
              "      <td>2</td>\n",
              "      <td>2</td>\n",
              "      <td>0</td>\n",
              "      <td>1</td>\n",
              "      <td>1</td>\n",
              "      <td>1</td>\n",
              "      <td>1</td>\n",
              "      <td>1</td>\n",
              "      <td>1</td>\n",
              "      <td>1</td>\n",
              "      <td>3</td>\n",
              "    </tr>\n",
              "    <tr>\n",
              "      <th>9</th>\n",
              "      <td>0</td>\n",
              "      <td>2</td>\n",
              "      <td>1</td>\n",
              "      <td>2</td>\n",
              "      <td>2</td>\n",
              "      <td>0</td>\n",
              "      <td>1</td>\n",
              "      <td>0</td>\n",
              "      <td>0</td>\n",
              "      <td>0</td>\n",
              "      <td>0</td>\n",
              "      <td>0</td>\n",
              "      <td>0</td>\n",
              "      <td>3</td>\n",
              "    </tr>\n",
              "    <tr>\n",
              "      <th>10</th>\n",
              "      <td>0</td>\n",
              "      <td>2</td>\n",
              "      <td>1</td>\n",
              "      <td>2</td>\n",
              "      <td>2</td>\n",
              "      <td>0</td>\n",
              "      <td>1</td>\n",
              "      <td>0</td>\n",
              "      <td>0</td>\n",
              "      <td>0</td>\n",
              "      <td>0</td>\n",
              "      <td>0</td>\n",
              "      <td>0</td>\n",
              "      <td>3</td>\n",
              "    </tr>\n",
              "    <tr>\n",
              "      <th>11</th>\n",
              "      <td>0</td>\n",
              "      <td>2</td>\n",
              "      <td>1</td>\n",
              "      <td>2</td>\n",
              "      <td>2</td>\n",
              "      <td>0</td>\n",
              "      <td>0</td>\n",
              "      <td>0</td>\n",
              "      <td>0</td>\n",
              "      <td>0</td>\n",
              "      <td>0</td>\n",
              "      <td>0</td>\n",
              "      <td>0</td>\n",
              "      <td>3</td>\n",
              "    </tr>\n",
              "    <tr>\n",
              "      <th>12</th>\n",
              "      <td>0</td>\n",
              "      <td>2</td>\n",
              "      <td>1</td>\n",
              "      <td>2</td>\n",
              "      <td>1</td>\n",
              "      <td>0</td>\n",
              "      <td>1</td>\n",
              "      <td>1</td>\n",
              "      <td>1</td>\n",
              "      <td>0</td>\n",
              "      <td>0</td>\n",
              "      <td>0</td>\n",
              "      <td>0</td>\n",
              "      <td>3</td>\n",
              "    </tr>\n",
              "    <tr>\n",
              "      <th>13</th>\n",
              "      <td>0</td>\n",
              "      <td>2</td>\n",
              "      <td>0</td>\n",
              "      <td>2</td>\n",
              "      <td>1</td>\n",
              "      <td>0</td>\n",
              "      <td>0</td>\n",
              "      <td>0</td>\n",
              "      <td>0</td>\n",
              "      <td>0</td>\n",
              "      <td>0</td>\n",
              "      <td>0</td>\n",
              "      <td>0</td>\n",
              "      <td>4</td>\n",
              "    </tr>\n",
              "    <tr>\n",
              "      <th>14</th>\n",
              "      <td>0</td>\n",
              "      <td>2</td>\n",
              "      <td>1</td>\n",
              "      <td>2</td>\n",
              "      <td>2</td>\n",
              "      <td>2</td>\n",
              "      <td>1</td>\n",
              "      <td>1</td>\n",
              "      <td>1</td>\n",
              "      <td>0</td>\n",
              "      <td>1</td>\n",
              "      <td>0</td>\n",
              "      <td>1</td>\n",
              "      <td>2</td>\n",
              "    </tr>\n",
              "  </tbody>\n",
              "</table>\n",
              "</div>"
            ],
            "text/plain": [
              "    Gender  Standard  ...  Offline_without_instructions  Assurance\n",
              "0        1         2  ...                             1          3\n",
              "1        0         2  ...                             1          3\n",
              "2        1         2  ...                             0          2\n",
              "3        1         2  ...                             0          2\n",
              "4        0         2  ...                             0          3\n",
              "5        1         2  ...                             0          2\n",
              "6        0         2  ...                             1          3\n",
              "7        0         2  ...                             0          3\n",
              "8        1         2  ...                             1          3\n",
              "9        0         2  ...                             0          3\n",
              "10       0         2  ...                             0          3\n",
              "11       0         2  ...                             0          3\n",
              "12       0         2  ...                             0          3\n",
              "13       0         2  ...                             0          4\n",
              "14       0         2  ...                             1          2\n",
              "\n",
              "[15 rows x 14 columns]"
            ]
          },
          "metadata": {
            "tags": []
          },
          "execution_count": 21
        }
      ]
    },
    {
      "cell_type": "code",
      "metadata": {
        "id": "2yTXhzQxaXFe",
        "colab": {
          "base_uri": "https://localhost:8080/",
          "height": 84
        },
        "outputId": "2b8e75f3-c8d2-4225-90f9-87831ba384da"
      },
      "source": [
        "data['Institute'].value_counts()"
      ],
      "execution_count": null,
      "outputs": [
        {
          "output_type": "execute_result",
          "data": {
            "text/plain": [
              "1    505\n",
              "0    137\n",
              "2      6\n",
              "Name: Institute, dtype: int64"
            ]
          },
          "metadata": {
            "tags": []
          },
          "execution_count": 22
        }
      ]
    },
    {
      "cell_type": "code",
      "metadata": {
        "id": "u0o6pHkOt6l5",
        "colab": {
          "base_uri": "https://localhost:8080/",
          "height": 118
        },
        "outputId": "4ecd1ae9-43b4-4885-e01c-936cb78c7d76"
      },
      "source": [
        "data['Subject'].value_counts()"
      ],
      "execution_count": null,
      "outputs": [
        {
          "output_type": "execute_result",
          "data": {
            "text/plain": [
              "3    430\n",
              "0    141\n",
              "2     58\n",
              "1     14\n",
              "4      5\n",
              "Name: Subject, dtype: int64"
            ]
          },
          "metadata": {
            "tags": []
          },
          "execution_count": 23
        }
      ]
    },
    {
      "cell_type": "code",
      "metadata": {
        "id": "8Rjho9GkaXI8",
        "colab": {
          "base_uri": "https://localhost:8080/",
          "height": 118
        },
        "outputId": "e1b5aaed-113f-45d1-8816-1e4ee827e497"
      },
      "source": [
        "data['Subject'].value_counts()"
      ],
      "execution_count": null,
      "outputs": [
        {
          "output_type": "execute_result",
          "data": {
            "text/plain": [
              "3    430\n",
              "0    141\n",
              "2     58\n",
              "1     14\n",
              "4      5\n",
              "Name: Subject, dtype: int64"
            ]
          },
          "metadata": {
            "tags": []
          },
          "execution_count": 24
        }
      ]
    },
    {
      "cell_type": "code",
      "metadata": {
        "id": "7-O8bGHraXL8",
        "colab": {
          "base_uri": "https://localhost:8080/",
          "height": 101
        },
        "outputId": "d567c9a3-95ec-4b81-fa16-49790aed1b68"
      },
      "source": [
        "data['Performance'].value_counts()"
      ],
      "execution_count": null,
      "outputs": [
        {
          "output_type": "execute_result",
          "data": {
            "text/plain": [
              "2    333\n",
              "1    238\n",
              "3     58\n",
              "0     19\n",
              "Name: Performance, dtype: int64"
            ]
          },
          "metadata": {
            "tags": []
          },
          "execution_count": 25
        }
      ]
    },
    {
      "cell_type": "code",
      "metadata": {
        "id": "zG75HAalaXPI",
        "colab": {
          "base_uri": "https://localhost:8080/",
          "height": 84
        },
        "outputId": "eaa12311-8f95-48a8-b184-4e30c8357ac2"
      },
      "source": [
        "data['Before_covid'].value_counts()"
      ],
      "execution_count": null,
      "outputs": [
        {
          "output_type": "execute_result",
          "data": {
            "text/plain": [
              "0    429\n",
              "1    198\n",
              "2     21\n",
              "Name: Before_covid, dtype: int64"
            ]
          },
          "metadata": {
            "tags": []
          },
          "execution_count": 26
        }
      ]
    },
    {
      "cell_type": "code",
      "metadata": {
        "id": "0CHfIEGiaXR6",
        "colab": {
          "base_uri": "https://localhost:8080/",
          "height": 84
        },
        "outputId": "68051000-4aad-4995-ef88-b7774cd46ff5"
      },
      "source": [
        "data['During_covid'].value_counts()"
      ],
      "execution_count": null,
      "outputs": [
        {
          "output_type": "execute_result",
          "data": {
            "text/plain": [
              "0    352\n",
              "1    248\n",
              "2     48\n",
              "Name: During_covid, dtype: int64"
            ]
          },
          "metadata": {
            "tags": []
          },
          "execution_count": 27
        }
      ]
    },
    {
      "cell_type": "code",
      "metadata": {
        "id": "x8Je7GeYaXUf",
        "colab": {
          "base_uri": "https://localhost:8080/",
          "height": 84
        },
        "outputId": "7fa5d028-a7ef-48f4-d93f-ddf62efcb176"
      },
      "source": [
        "data['During_online'].value_counts()"
      ],
      "execution_count": null,
      "outputs": [
        {
          "output_type": "execute_result",
          "data": {
            "text/plain": [
              "1    406\n",
              "0    159\n",
              "2     83\n",
              "Name: During_online, dtype: int64"
            ]
          },
          "metadata": {
            "tags": []
          },
          "execution_count": 28
        }
      ]
    },
    {
      "cell_type": "code",
      "metadata": {
        "id": "DOBWtCNRb4NV",
        "colab": {
          "base_uri": "https://localhost:8080/",
          "height": 84
        },
        "outputId": "95627cb2-4639-455f-c3c9-9677a55ade56"
      },
      "source": [
        "data['Online_with_instructions'].value_counts()"
      ],
      "execution_count": null,
      "outputs": [
        {
          "output_type": "execute_result",
          "data": {
            "text/plain": [
              "1    428\n",
              "0    180\n",
              "2     40\n",
              "Name: Online_with_instructions, dtype: int64"
            ]
          },
          "metadata": {
            "tags": []
          },
          "execution_count": 29
        }
      ]
    },
    {
      "cell_type": "code",
      "metadata": {
        "id": "XKz8tiPob4UY",
        "colab": {
          "base_uri": "https://localhost:8080/",
          "height": 84
        },
        "outputId": "c7fd18f9-4364-4e00-8fe7-49ebfbe58ebf"
      },
      "source": [
        "data['Online_without_instructions'].value_counts()"
      ],
      "execution_count": null,
      "outputs": [
        {
          "output_type": "execute_result",
          "data": {
            "text/plain": [
              "0    477\n",
              "1    144\n",
              "2     27\n",
              "Name: Online_without_instructions, dtype: int64"
            ]
          },
          "metadata": {
            "tags": []
          },
          "execution_count": 30
        }
      ]
    },
    {
      "cell_type": "code",
      "metadata": {
        "id": "Hllm-YfWb4XV",
        "colab": {
          "base_uri": "https://localhost:8080/",
          "height": 84
        },
        "outputId": "0fcdf8f7-1b84-4106-f699-13694107dc06"
      },
      "source": [
        "data['During_offline'].value_counts()"
      ],
      "execution_count": null,
      "outputs": [
        {
          "output_type": "execute_result",
          "data": {
            "text/plain": [
              "0    520\n",
              "1    101\n",
              "2     27\n",
              "Name: During_offline, dtype: int64"
            ]
          },
          "metadata": {
            "tags": []
          },
          "execution_count": 31
        }
      ]
    },
    {
      "cell_type": "code",
      "metadata": {
        "id": "4Vuaz_49b4b9",
        "colab": {
          "base_uri": "https://localhost:8080/",
          "height": 84
        },
        "outputId": "d22b80a0-e7aa-4233-9e2d-ac1514e4cb68"
      },
      "source": [
        "data['Offline_with_instructions'].value_counts()"
      ],
      "execution_count": null,
      "outputs": [
        {
          "output_type": "execute_result",
          "data": {
            "text/plain": [
              "0    515\n",
              "1    110\n",
              "2     23\n",
              "Name: Offline_with_instructions, dtype: int64"
            ]
          },
          "metadata": {
            "tags": []
          },
          "execution_count": 32
        }
      ]
    },
    {
      "cell_type": "code",
      "metadata": {
        "id": "wpDj9sAwb4aa",
        "colab": {
          "base_uri": "https://localhost:8080/",
          "height": 84
        },
        "outputId": "ef023fd4-7dd5-4b4b-c709-c885c56be6bc"
      },
      "source": [
        "data['Offline_without_instructions'].value_counts()"
      ],
      "execution_count": null,
      "outputs": [
        {
          "output_type": "execute_result",
          "data": {
            "text/plain": [
              "0    519\n",
              "1    110\n",
              "2     19\n",
              "Name: Offline_without_instructions, dtype: int64"
            ]
          },
          "metadata": {
            "tags": []
          },
          "execution_count": 33
        }
      ]
    },
    {
      "cell_type": "code",
      "metadata": {
        "id": "nD60d8TNcIk1",
        "colab": {
          "base_uri": "https://localhost:8080/",
          "height": 118
        },
        "outputId": "220e3792-ccfc-4d1d-f421-62172dff5080"
      },
      "source": [
        "data['Assurance'].value_counts()"
      ],
      "execution_count": null,
      "outputs": [
        {
          "output_type": "execute_result",
          "data": {
            "text/plain": [
              "3    351\n",
              "2    157\n",
              "4     66\n",
              "1     44\n",
              "0     30\n",
              "Name: Assurance, dtype: int64"
            ]
          },
          "metadata": {
            "tags": []
          },
          "execution_count": 34
        }
      ]
    },
    {
      "cell_type": "markdown",
      "metadata": {
        "id": "luonC5FsLIcV"
      },
      "source": [
        "### **Male=0 Female=1**\n",
        "### **College=2,  '09-Dec'=1,  '05-Aug'=0**\n",
        "### **Public=0, Private=1,  International=2**\n",
        "### **Science=0, Arts=1, Commerce=2, Technical=3, Medical=4**\n",
        "### **Below Average=0, Average=1, Good=2, Excellent= 3**\n",
        "### **less than  4 hrs=0 ,4-7 hrs=1 , above 7 hrs=2**\n",
        "### **Strongly Disagree=0, Disagree=1, Neither agree nor disagree=2, Agree=3, Strongly Agree=4**\n",
        "\n"
      ]
    },
    {
      "cell_type": "code",
      "metadata": {
        "id": "L5PCCp9COupK",
        "colab": {
          "base_uri": "https://localhost:8080/",
          "height": 304
        },
        "outputId": "95b7f8bf-9fbd-4227-e941-7e9b47998f9c"
      },
      "source": [
        "data.describe()"
      ],
      "execution_count": null,
      "outputs": [
        {
          "output_type": "execute_result",
          "data": {
            "text/html": [
              "<div>\n",
              "<style scoped>\n",
              "    .dataframe tbody tr th:only-of-type {\n",
              "        vertical-align: middle;\n",
              "    }\n",
              "\n",
              "    .dataframe tbody tr th {\n",
              "        vertical-align: top;\n",
              "    }\n",
              "\n",
              "    .dataframe thead th {\n",
              "        text-align: right;\n",
              "    }\n",
              "</style>\n",
              "<table border=\"1\" class=\"dataframe\">\n",
              "  <thead>\n",
              "    <tr style=\"text-align: right;\">\n",
              "      <th></th>\n",
              "      <th>Gender</th>\n",
              "      <th>Standard</th>\n",
              "      <th>Institute</th>\n",
              "      <th>Subject</th>\n",
              "      <th>Performance</th>\n",
              "      <th>Before_covid</th>\n",
              "      <th>During_covid</th>\n",
              "      <th>During_online</th>\n",
              "      <th>Online_with_instructions</th>\n",
              "      <th>Online_without_instructions</th>\n",
              "      <th>During_offline</th>\n",
              "      <th>Offline_with_instructions</th>\n",
              "      <th>Offline_without_instructions</th>\n",
              "      <th>Assurance</th>\n",
              "    </tr>\n",
              "  </thead>\n",
              "  <tbody>\n",
              "    <tr>\n",
              "      <th>count</th>\n",
              "      <td>648.000000</td>\n",
              "      <td>648.000000</td>\n",
              "      <td>648.000000</td>\n",
              "      <td>648.000000</td>\n",
              "      <td>648.000000</td>\n",
              "      <td>648.000000</td>\n",
              "      <td>648.000000</td>\n",
              "      <td>648.000000</td>\n",
              "      <td>648.000000</td>\n",
              "      <td>648.000000</td>\n",
              "      <td>648.000000</td>\n",
              "      <td>648.000000</td>\n",
              "      <td>648.000000</td>\n",
              "      <td>648.000000</td>\n",
              "    </tr>\n",
              "    <tr>\n",
              "      <th>mean</th>\n",
              "      <td>0.424383</td>\n",
              "      <td>1.958333</td>\n",
              "      <td>0.797840</td>\n",
              "      <td>2.222222</td>\n",
              "      <td>1.663580</td>\n",
              "      <td>0.370370</td>\n",
              "      <td>0.530864</td>\n",
              "      <td>0.882716</td>\n",
              "      <td>0.783951</td>\n",
              "      <td>0.305556</td>\n",
              "      <td>0.239198</td>\n",
              "      <td>0.240741</td>\n",
              "      <td>0.228395</td>\n",
              "      <td>2.584877</td>\n",
              "    </tr>\n",
              "    <tr>\n",
              "      <th>std</th>\n",
              "      <td>0.494631</td>\n",
              "      <td>0.266278</td>\n",
              "      <td>0.424368</td>\n",
              "      <td>1.240731</td>\n",
              "      <td>0.679418</td>\n",
              "      <td>0.546326</td>\n",
              "      <td>0.630721</td>\n",
              "      <td>0.600214</td>\n",
              "      <td>0.541555</td>\n",
              "      <td>0.544042</td>\n",
              "      <td>0.515486</td>\n",
              "      <td>0.504147</td>\n",
              "      <td>0.485011</td>\n",
              "      <td>0.928121</td>\n",
              "    </tr>\n",
              "    <tr>\n",
              "      <th>min</th>\n",
              "      <td>0.000000</td>\n",
              "      <td>0.000000</td>\n",
              "      <td>0.000000</td>\n",
              "      <td>0.000000</td>\n",
              "      <td>0.000000</td>\n",
              "      <td>0.000000</td>\n",
              "      <td>0.000000</td>\n",
              "      <td>0.000000</td>\n",
              "      <td>0.000000</td>\n",
              "      <td>0.000000</td>\n",
              "      <td>0.000000</td>\n",
              "      <td>0.000000</td>\n",
              "      <td>0.000000</td>\n",
              "      <td>0.000000</td>\n",
              "    </tr>\n",
              "    <tr>\n",
              "      <th>25%</th>\n",
              "      <td>0.000000</td>\n",
              "      <td>2.000000</td>\n",
              "      <td>1.000000</td>\n",
              "      <td>2.000000</td>\n",
              "      <td>1.000000</td>\n",
              "      <td>0.000000</td>\n",
              "      <td>0.000000</td>\n",
              "      <td>1.000000</td>\n",
              "      <td>0.000000</td>\n",
              "      <td>0.000000</td>\n",
              "      <td>0.000000</td>\n",
              "      <td>0.000000</td>\n",
              "      <td>0.000000</td>\n",
              "      <td>2.000000</td>\n",
              "    </tr>\n",
              "    <tr>\n",
              "      <th>50%</th>\n",
              "      <td>0.000000</td>\n",
              "      <td>2.000000</td>\n",
              "      <td>1.000000</td>\n",
              "      <td>3.000000</td>\n",
              "      <td>2.000000</td>\n",
              "      <td>0.000000</td>\n",
              "      <td>0.000000</td>\n",
              "      <td>1.000000</td>\n",
              "      <td>1.000000</td>\n",
              "      <td>0.000000</td>\n",
              "      <td>0.000000</td>\n",
              "      <td>0.000000</td>\n",
              "      <td>0.000000</td>\n",
              "      <td>3.000000</td>\n",
              "    </tr>\n",
              "    <tr>\n",
              "      <th>75%</th>\n",
              "      <td>1.000000</td>\n",
              "      <td>2.000000</td>\n",
              "      <td>1.000000</td>\n",
              "      <td>3.000000</td>\n",
              "      <td>2.000000</td>\n",
              "      <td>1.000000</td>\n",
              "      <td>1.000000</td>\n",
              "      <td>1.000000</td>\n",
              "      <td>1.000000</td>\n",
              "      <td>1.000000</td>\n",
              "      <td>0.000000</td>\n",
              "      <td>0.000000</td>\n",
              "      <td>0.000000</td>\n",
              "      <td>3.000000</td>\n",
              "    </tr>\n",
              "    <tr>\n",
              "      <th>max</th>\n",
              "      <td>1.000000</td>\n",
              "      <td>2.000000</td>\n",
              "      <td>2.000000</td>\n",
              "      <td>4.000000</td>\n",
              "      <td>3.000000</td>\n",
              "      <td>2.000000</td>\n",
              "      <td>2.000000</td>\n",
              "      <td>2.000000</td>\n",
              "      <td>2.000000</td>\n",
              "      <td>2.000000</td>\n",
              "      <td>2.000000</td>\n",
              "      <td>2.000000</td>\n",
              "      <td>2.000000</td>\n",
              "      <td>4.000000</td>\n",
              "    </tr>\n",
              "  </tbody>\n",
              "</table>\n",
              "</div>"
            ],
            "text/plain": [
              "           Gender    Standard  ...  Offline_without_instructions   Assurance\n",
              "count  648.000000  648.000000  ...                    648.000000  648.000000\n",
              "mean     0.424383    1.958333  ...                      0.228395    2.584877\n",
              "std      0.494631    0.266278  ...                      0.485011    0.928121\n",
              "min      0.000000    0.000000  ...                      0.000000    0.000000\n",
              "25%      0.000000    2.000000  ...                      0.000000    2.000000\n",
              "50%      0.000000    2.000000  ...                      0.000000    3.000000\n",
              "75%      1.000000    2.000000  ...                      0.000000    3.000000\n",
              "max      1.000000    2.000000  ...                      2.000000    4.000000\n",
              "\n",
              "[8 rows x 14 columns]"
            ]
          },
          "metadata": {
            "tags": []
          },
          "execution_count": 35
        }
      ]
    },
    {
      "cell_type": "code",
      "metadata": {
        "id": "TfwkIhC7Kc-k",
        "colab": {
          "base_uri": "https://localhost:8080/",
          "height": 269
        },
        "outputId": "b1fe6227-6cf2-4c6c-e74c-a411878509ca"
      },
      "source": [
        "data.sem(axis=0)"
      ],
      "execution_count": null,
      "outputs": [
        {
          "output_type": "execute_result",
          "data": {
            "text/plain": [
              "Gender                          0.019431\n",
              "Standard                        0.010460\n",
              "Institute                       0.016671\n",
              "Subject                         0.048741\n",
              "Performance                     0.026690\n",
              "Before_covid                    0.021462\n",
              "During_covid                    0.024777\n",
              "During_online                   0.023579\n",
              "Online_with_instructions        0.021274\n",
              "Online_without_instructions     0.021372\n",
              "During_offline                  0.020250\n",
              "Offline_with_instructions       0.019805\n",
              "Offline_without_instructions    0.019053\n",
              "Assurance                       0.036460\n",
              "dtype: float64"
            ]
          },
          "metadata": {
            "tags": []
          },
          "execution_count": 36
        }
      ]
    },
    {
      "cell_type": "code",
      "metadata": {
        "id": "SOXik2XuNC7v",
        "colab": {
          "base_uri": "https://localhost:8080/",
          "height": 574
        },
        "outputId": "61b355e7-903d-4e25-efef-2a46cc48b08c"
      },
      "source": [
        "from scipy.stats import sem, t\n",
        "from scipy import mean\n",
        "confidence = 0.95\n",
        "n = len(data)\n",
        "m = mean(data)\n",
        "std_err = sem(data)\n",
        "h = std_err * t.ppf((1 + confidence) / 2, n - 1)\n",
        "\n",
        "start = m - h\n",
        "print (start)\n",
        "\n",
        "end = m + h\n",
        "print (end)"
      ],
      "execution_count": null,
      "outputs": [
        {
          "output_type": "stream",
          "text": [
            "Gender                          0.386227\n",
            "Standard                        1.937793\n",
            "Institute                       0.765104\n",
            "Subject                         2.126514\n",
            "Performance                     1.611171\n",
            "Before_covid                    0.328227\n",
            "During_covid                    0.482211\n",
            "During_online                   0.836416\n",
            "Online_with_instructions        0.742176\n",
            "Online_without_instructions     0.263589\n",
            "During_offline                  0.199434\n",
            "Offline_with_instructions       0.201851\n",
            "Offline_without_instructions    0.190982\n",
            "Assurance                       2.513282\n",
            "dtype: float64\n",
            "Gender                          0.462538\n",
            "Standard                        1.978874\n",
            "Institute                       0.830575\n",
            "Subject                         2.317931\n",
            "Performance                     1.715990\n",
            "Before_covid                    0.412513\n",
            "During_covid                    0.579517\n",
            "During_online                   0.929016\n",
            "Online_with_instructions        0.825726\n",
            "Online_without_instructions     0.347522\n",
            "During_offline                  0.278962\n",
            "Offline_with_instructions       0.279630\n",
            "Offline_without_instructions    0.265808\n",
            "Assurance                       2.656471\n",
            "dtype: float64\n"
          ],
          "name": "stdout"
        },
        {
          "output_type": "stream",
          "text": [
            "/usr/local/lib/python3.6/dist-packages/ipykernel_launcher.py:5: DeprecationWarning: scipy.mean is deprecated and will be removed in SciPy 2.0.0, use numpy.mean instead\n",
            "  \"\"\"\n"
          ],
          "name": "stderr"
        }
      ]
    },
    {
      "cell_type": "code",
      "metadata": {
        "id": "UlEkAcRMyOxE"
      },
      "source": [
        "data_male = data[data['Gender']==0]"
      ],
      "execution_count": null,
      "outputs": []
    },
    {
      "cell_type": "code",
      "metadata": {
        "id": "7DReGfij1Hjf",
        "colab": {
          "base_uri": "https://localhost:8080/",
          "height": 422
        },
        "outputId": "144fe523-51fb-429e-93fa-982095cb0afc"
      },
      "source": [
        "data_male"
      ],
      "execution_count": null,
      "outputs": [
        {
          "output_type": "execute_result",
          "data": {
            "text/html": [
              "<div>\n",
              "<style scoped>\n",
              "    .dataframe tbody tr th:only-of-type {\n",
              "        vertical-align: middle;\n",
              "    }\n",
              "\n",
              "    .dataframe tbody tr th {\n",
              "        vertical-align: top;\n",
              "    }\n",
              "\n",
              "    .dataframe thead th {\n",
              "        text-align: right;\n",
              "    }\n",
              "</style>\n",
              "<table border=\"1\" class=\"dataframe\">\n",
              "  <thead>\n",
              "    <tr style=\"text-align: right;\">\n",
              "      <th></th>\n",
              "      <th>Gender</th>\n",
              "      <th>Standard</th>\n",
              "      <th>Institute</th>\n",
              "      <th>Subject</th>\n",
              "      <th>Performance</th>\n",
              "      <th>Before_covid</th>\n",
              "      <th>During_covid</th>\n",
              "      <th>During_online</th>\n",
              "      <th>Online_with_instructions</th>\n",
              "      <th>Online_without_instructions</th>\n",
              "      <th>During_offline</th>\n",
              "      <th>Offline_with_instructions</th>\n",
              "      <th>Offline_without_instructions</th>\n",
              "      <th>Assurance</th>\n",
              "    </tr>\n",
              "  </thead>\n",
              "  <tbody>\n",
              "    <tr>\n",
              "      <th>1</th>\n",
              "      <td>0</td>\n",
              "      <td>2</td>\n",
              "      <td>1</td>\n",
              "      <td>0</td>\n",
              "      <td>3</td>\n",
              "      <td>1</td>\n",
              "      <td>0</td>\n",
              "      <td>0</td>\n",
              "      <td>0</td>\n",
              "      <td>0</td>\n",
              "      <td>1</td>\n",
              "      <td>0</td>\n",
              "      <td>1</td>\n",
              "      <td>3</td>\n",
              "    </tr>\n",
              "    <tr>\n",
              "      <th>4</th>\n",
              "      <td>0</td>\n",
              "      <td>2</td>\n",
              "      <td>1</td>\n",
              "      <td>2</td>\n",
              "      <td>2</td>\n",
              "      <td>0</td>\n",
              "      <td>0</td>\n",
              "      <td>0</td>\n",
              "      <td>1</td>\n",
              "      <td>0</td>\n",
              "      <td>0</td>\n",
              "      <td>0</td>\n",
              "      <td>0</td>\n",
              "      <td>3</td>\n",
              "    </tr>\n",
              "    <tr>\n",
              "      <th>6</th>\n",
              "      <td>0</td>\n",
              "      <td>2</td>\n",
              "      <td>1</td>\n",
              "      <td>2</td>\n",
              "      <td>1</td>\n",
              "      <td>0</td>\n",
              "      <td>1</td>\n",
              "      <td>1</td>\n",
              "      <td>1</td>\n",
              "      <td>0</td>\n",
              "      <td>2</td>\n",
              "      <td>1</td>\n",
              "      <td>1</td>\n",
              "      <td>3</td>\n",
              "    </tr>\n",
              "    <tr>\n",
              "      <th>7</th>\n",
              "      <td>0</td>\n",
              "      <td>2</td>\n",
              "      <td>1</td>\n",
              "      <td>2</td>\n",
              "      <td>2</td>\n",
              "      <td>0</td>\n",
              "      <td>0</td>\n",
              "      <td>1</td>\n",
              "      <td>1</td>\n",
              "      <td>0</td>\n",
              "      <td>0</td>\n",
              "      <td>0</td>\n",
              "      <td>0</td>\n",
              "      <td>3</td>\n",
              "    </tr>\n",
              "    <tr>\n",
              "      <th>9</th>\n",
              "      <td>0</td>\n",
              "      <td>2</td>\n",
              "      <td>1</td>\n",
              "      <td>2</td>\n",
              "      <td>2</td>\n",
              "      <td>0</td>\n",
              "      <td>1</td>\n",
              "      <td>0</td>\n",
              "      <td>0</td>\n",
              "      <td>0</td>\n",
              "      <td>0</td>\n",
              "      <td>0</td>\n",
              "      <td>0</td>\n",
              "      <td>3</td>\n",
              "    </tr>\n",
              "    <tr>\n",
              "      <th>...</th>\n",
              "      <td>...</td>\n",
              "      <td>...</td>\n",
              "      <td>...</td>\n",
              "      <td>...</td>\n",
              "      <td>...</td>\n",
              "      <td>...</td>\n",
              "      <td>...</td>\n",
              "      <td>...</td>\n",
              "      <td>...</td>\n",
              "      <td>...</td>\n",
              "      <td>...</td>\n",
              "      <td>...</td>\n",
              "      <td>...</td>\n",
              "      <td>...</td>\n",
              "    </tr>\n",
              "    <tr>\n",
              "      <th>636</th>\n",
              "      <td>0</td>\n",
              "      <td>2</td>\n",
              "      <td>0</td>\n",
              "      <td>3</td>\n",
              "      <td>1</td>\n",
              "      <td>0</td>\n",
              "      <td>1</td>\n",
              "      <td>1</td>\n",
              "      <td>0</td>\n",
              "      <td>1</td>\n",
              "      <td>0</td>\n",
              "      <td>0</td>\n",
              "      <td>0</td>\n",
              "      <td>3</td>\n",
              "    </tr>\n",
              "    <tr>\n",
              "      <th>639</th>\n",
              "      <td>0</td>\n",
              "      <td>2</td>\n",
              "      <td>0</td>\n",
              "      <td>2</td>\n",
              "      <td>1</td>\n",
              "      <td>0</td>\n",
              "      <td>0</td>\n",
              "      <td>0</td>\n",
              "      <td>1</td>\n",
              "      <td>0</td>\n",
              "      <td>0</td>\n",
              "      <td>0</td>\n",
              "      <td>0</td>\n",
              "      <td>1</td>\n",
              "    </tr>\n",
              "    <tr>\n",
              "      <th>640</th>\n",
              "      <td>0</td>\n",
              "      <td>2</td>\n",
              "      <td>1</td>\n",
              "      <td>0</td>\n",
              "      <td>1</td>\n",
              "      <td>0</td>\n",
              "      <td>0</td>\n",
              "      <td>1</td>\n",
              "      <td>1</td>\n",
              "      <td>0</td>\n",
              "      <td>0</td>\n",
              "      <td>0</td>\n",
              "      <td>0</td>\n",
              "      <td>2</td>\n",
              "    </tr>\n",
              "    <tr>\n",
              "      <th>641</th>\n",
              "      <td>0</td>\n",
              "      <td>2</td>\n",
              "      <td>1</td>\n",
              "      <td>0</td>\n",
              "      <td>1</td>\n",
              "      <td>0</td>\n",
              "      <td>0</td>\n",
              "      <td>1</td>\n",
              "      <td>1</td>\n",
              "      <td>0</td>\n",
              "      <td>0</td>\n",
              "      <td>0</td>\n",
              "      <td>0</td>\n",
              "      <td>3</td>\n",
              "    </tr>\n",
              "    <tr>\n",
              "      <th>644</th>\n",
              "      <td>0</td>\n",
              "      <td>2</td>\n",
              "      <td>1</td>\n",
              "      <td>3</td>\n",
              "      <td>2</td>\n",
              "      <td>1</td>\n",
              "      <td>0</td>\n",
              "      <td>0</td>\n",
              "      <td>0</td>\n",
              "      <td>0</td>\n",
              "      <td>1</td>\n",
              "      <td>1</td>\n",
              "      <td>2</td>\n",
              "      <td>2</td>\n",
              "    </tr>\n",
              "  </tbody>\n",
              "</table>\n",
              "<p>373 rows × 14 columns</p>\n",
              "</div>"
            ],
            "text/plain": [
              "     Gender  Standard  ...  Offline_without_instructions  Assurance\n",
              "1         0         2  ...                             1          3\n",
              "4         0         2  ...                             0          3\n",
              "6         0         2  ...                             1          3\n",
              "7         0         2  ...                             0          3\n",
              "9         0         2  ...                             0          3\n",
              "..      ...       ...  ...                           ...        ...\n",
              "636       0         2  ...                             0          3\n",
              "639       0         2  ...                             0          1\n",
              "640       0         2  ...                             0          2\n",
              "641       0         2  ...                             0          3\n",
              "644       0         2  ...                             2          2\n",
              "\n",
              "[373 rows x 14 columns]"
            ]
          },
          "metadata": {
            "tags": []
          },
          "execution_count": 39
        }
      ]
    },
    {
      "cell_type": "code",
      "metadata": {
        "id": "94N5ysPw1NAN",
        "colab": {
          "base_uri": "https://localhost:8080/",
          "height": 422
        },
        "outputId": "f14bb1f4-3c58-4ff1-8f39-a0be8c37db91"
      },
      "source": [
        "data_female = data[data['Gender']==1]\n",
        "data_female"
      ],
      "execution_count": null,
      "outputs": [
        {
          "output_type": "execute_result",
          "data": {
            "text/html": [
              "<div>\n",
              "<style scoped>\n",
              "    .dataframe tbody tr th:only-of-type {\n",
              "        vertical-align: middle;\n",
              "    }\n",
              "\n",
              "    .dataframe tbody tr th {\n",
              "        vertical-align: top;\n",
              "    }\n",
              "\n",
              "    .dataframe thead th {\n",
              "        text-align: right;\n",
              "    }\n",
              "</style>\n",
              "<table border=\"1\" class=\"dataframe\">\n",
              "  <thead>\n",
              "    <tr style=\"text-align: right;\">\n",
              "      <th></th>\n",
              "      <th>Gender</th>\n",
              "      <th>Standard</th>\n",
              "      <th>Institute</th>\n",
              "      <th>Subject</th>\n",
              "      <th>Performance</th>\n",
              "      <th>Before_covid</th>\n",
              "      <th>During_covid</th>\n",
              "      <th>During_online</th>\n",
              "      <th>Online_with_instructions</th>\n",
              "      <th>Online_without_instructions</th>\n",
              "      <th>During_offline</th>\n",
              "      <th>Offline_with_instructions</th>\n",
              "      <th>Offline_without_instructions</th>\n",
              "      <th>Assurance</th>\n",
              "    </tr>\n",
              "  </thead>\n",
              "  <tbody>\n",
              "    <tr>\n",
              "      <th>0</th>\n",
              "      <td>1</td>\n",
              "      <td>2</td>\n",
              "      <td>0</td>\n",
              "      <td>3</td>\n",
              "      <td>3</td>\n",
              "      <td>0</td>\n",
              "      <td>1</td>\n",
              "      <td>2</td>\n",
              "      <td>1</td>\n",
              "      <td>1</td>\n",
              "      <td>0</td>\n",
              "      <td>0</td>\n",
              "      <td>1</td>\n",
              "      <td>3</td>\n",
              "    </tr>\n",
              "    <tr>\n",
              "      <th>2</th>\n",
              "      <td>1</td>\n",
              "      <td>2</td>\n",
              "      <td>1</td>\n",
              "      <td>2</td>\n",
              "      <td>2</td>\n",
              "      <td>0</td>\n",
              "      <td>0</td>\n",
              "      <td>1</td>\n",
              "      <td>1</td>\n",
              "      <td>0</td>\n",
              "      <td>0</td>\n",
              "      <td>0</td>\n",
              "      <td>0</td>\n",
              "      <td>2</td>\n",
              "    </tr>\n",
              "    <tr>\n",
              "      <th>3</th>\n",
              "      <td>1</td>\n",
              "      <td>2</td>\n",
              "      <td>1</td>\n",
              "      <td>2</td>\n",
              "      <td>2</td>\n",
              "      <td>0</td>\n",
              "      <td>0</td>\n",
              "      <td>0</td>\n",
              "      <td>1</td>\n",
              "      <td>0</td>\n",
              "      <td>0</td>\n",
              "      <td>1</td>\n",
              "      <td>0</td>\n",
              "      <td>2</td>\n",
              "    </tr>\n",
              "    <tr>\n",
              "      <th>5</th>\n",
              "      <td>1</td>\n",
              "      <td>2</td>\n",
              "      <td>1</td>\n",
              "      <td>2</td>\n",
              "      <td>2</td>\n",
              "      <td>1</td>\n",
              "      <td>1</td>\n",
              "      <td>0</td>\n",
              "      <td>0</td>\n",
              "      <td>0</td>\n",
              "      <td>0</td>\n",
              "      <td>0</td>\n",
              "      <td>0</td>\n",
              "      <td>2</td>\n",
              "    </tr>\n",
              "    <tr>\n",
              "      <th>8</th>\n",
              "      <td>1</td>\n",
              "      <td>2</td>\n",
              "      <td>1</td>\n",
              "      <td>2</td>\n",
              "      <td>2</td>\n",
              "      <td>0</td>\n",
              "      <td>1</td>\n",
              "      <td>1</td>\n",
              "      <td>1</td>\n",
              "      <td>1</td>\n",
              "      <td>1</td>\n",
              "      <td>1</td>\n",
              "      <td>1</td>\n",
              "      <td>3</td>\n",
              "    </tr>\n",
              "    <tr>\n",
              "      <th>...</th>\n",
              "      <td>...</td>\n",
              "      <td>...</td>\n",
              "      <td>...</td>\n",
              "      <td>...</td>\n",
              "      <td>...</td>\n",
              "      <td>...</td>\n",
              "      <td>...</td>\n",
              "      <td>...</td>\n",
              "      <td>...</td>\n",
              "      <td>...</td>\n",
              "      <td>...</td>\n",
              "      <td>...</td>\n",
              "      <td>...</td>\n",
              "      <td>...</td>\n",
              "    </tr>\n",
              "    <tr>\n",
              "      <th>642</th>\n",
              "      <td>1</td>\n",
              "      <td>2</td>\n",
              "      <td>1</td>\n",
              "      <td>3</td>\n",
              "      <td>1</td>\n",
              "      <td>1</td>\n",
              "      <td>0</td>\n",
              "      <td>1</td>\n",
              "      <td>1</td>\n",
              "      <td>0</td>\n",
              "      <td>1</td>\n",
              "      <td>1</td>\n",
              "      <td>1</td>\n",
              "      <td>3</td>\n",
              "    </tr>\n",
              "    <tr>\n",
              "      <th>643</th>\n",
              "      <td>1</td>\n",
              "      <td>2</td>\n",
              "      <td>1</td>\n",
              "      <td>3</td>\n",
              "      <td>2</td>\n",
              "      <td>1</td>\n",
              "      <td>0</td>\n",
              "      <td>1</td>\n",
              "      <td>2</td>\n",
              "      <td>0</td>\n",
              "      <td>0</td>\n",
              "      <td>0</td>\n",
              "      <td>0</td>\n",
              "      <td>3</td>\n",
              "    </tr>\n",
              "    <tr>\n",
              "      <th>645</th>\n",
              "      <td>1</td>\n",
              "      <td>2</td>\n",
              "      <td>1</td>\n",
              "      <td>0</td>\n",
              "      <td>1</td>\n",
              "      <td>1</td>\n",
              "      <td>0</td>\n",
              "      <td>0</td>\n",
              "      <td>0</td>\n",
              "      <td>0</td>\n",
              "      <td>0</td>\n",
              "      <td>0</td>\n",
              "      <td>0</td>\n",
              "      <td>3</td>\n",
              "    </tr>\n",
              "    <tr>\n",
              "      <th>646</th>\n",
              "      <td>1</td>\n",
              "      <td>2</td>\n",
              "      <td>1</td>\n",
              "      <td>0</td>\n",
              "      <td>1</td>\n",
              "      <td>1</td>\n",
              "      <td>0</td>\n",
              "      <td>0</td>\n",
              "      <td>0</td>\n",
              "      <td>0</td>\n",
              "      <td>0</td>\n",
              "      <td>0</td>\n",
              "      <td>0</td>\n",
              "      <td>3</td>\n",
              "    </tr>\n",
              "    <tr>\n",
              "      <th>647</th>\n",
              "      <td>1</td>\n",
              "      <td>2</td>\n",
              "      <td>1</td>\n",
              "      <td>3</td>\n",
              "      <td>2</td>\n",
              "      <td>0</td>\n",
              "      <td>1</td>\n",
              "      <td>1</td>\n",
              "      <td>1</td>\n",
              "      <td>0</td>\n",
              "      <td>0</td>\n",
              "      <td>0</td>\n",
              "      <td>0</td>\n",
              "      <td>2</td>\n",
              "    </tr>\n",
              "  </tbody>\n",
              "</table>\n",
              "<p>275 rows × 14 columns</p>\n",
              "</div>"
            ],
            "text/plain": [
              "     Gender  Standard  ...  Offline_without_instructions  Assurance\n",
              "0         1         2  ...                             1          3\n",
              "2         1         2  ...                             0          2\n",
              "3         1         2  ...                             0          2\n",
              "5         1         2  ...                             0          2\n",
              "8         1         2  ...                             1          3\n",
              "..      ...       ...  ...                           ...        ...\n",
              "642       1         2  ...                             1          3\n",
              "643       1         2  ...                             0          3\n",
              "645       1         2  ...                             0          3\n",
              "646       1         2  ...                             0          3\n",
              "647       1         2  ...                             0          2\n",
              "\n",
              "[275 rows x 14 columns]"
            ]
          },
          "metadata": {
            "tags": []
          },
          "execution_count": 40
        }
      ]
    },
    {
      "cell_type": "markdown",
      "metadata": {
        "id": "GD_K2grF4P1m"
      },
      "source": [
        "**MALE**"
      ]
    },
    {
      "cell_type": "code",
      "metadata": {
        "id": "7LCBpLI-M9jc",
        "colab": {
          "base_uri": "https://localhost:8080/",
          "height": 67
        },
        "outputId": "4c754c88-0432-4631-f609-0c8a35f755eb"
      },
      "source": [
        "data['Gender'].value_counts() # we have 373 males and 275 females. \n"
      ],
      "execution_count": null,
      "outputs": [
        {
          "output_type": "execute_result",
          "data": {
            "text/plain": [
              "0    373\n",
              "1    275\n",
              "Name: Gender, dtype: int64"
            ]
          },
          "metadata": {
            "tags": []
          },
          "execution_count": 41
        }
      ]
    },
    {
      "cell_type": "code",
      "metadata": {
        "id": "_XqDpiT8MpYI"
      },
      "source": [
        "#less than  4 hrs':0,                         \n",
        " #        '4-7 hrs':1,\n",
        "  #        'above 7 hrs':2"
      ],
      "execution_count": null,
      "outputs": []
    },
    {
      "cell_type": "code",
      "metadata": {
        "id": "IyME2--e1RmV",
        "colab": {
          "base_uri": "https://localhost:8080/",
          "height": 84
        },
        "outputId": "043c7dd8-2933-4782-8a8c-5e1ae39ffc8d"
      },
      "source": [
        "data_male['Before_covid'].value_counts()    "
      ],
      "execution_count": null,
      "outputs": [
        {
          "output_type": "execute_result",
          "data": {
            "text/plain": [
              "0    257\n",
              "1    106\n",
              "2     10\n",
              "Name: Before_covid, dtype: int64"
            ]
          },
          "metadata": {
            "tags": []
          },
          "execution_count": 43
        }
      ]
    },
    {
      "cell_type": "code",
      "metadata": {
        "id": "wqpqv64j1d_B",
        "colab": {
          "base_uri": "https://localhost:8080/",
          "height": 84
        },
        "outputId": "0c7df106-dc0e-4b5b-d9e7-c3ef4f043f14"
      },
      "source": [
        "data_male['During_covid'].value_counts()"
      ],
      "execution_count": null,
      "outputs": [
        {
          "output_type": "execute_result",
          "data": {
            "text/plain": [
              "0    211\n",
              "1    138\n",
              "2     24\n",
              "Name: During_covid, dtype: int64"
            ]
          },
          "metadata": {
            "tags": []
          },
          "execution_count": 44
        }
      ]
    },
    {
      "cell_type": "code",
      "metadata": {
        "id": "53_3yXcVyDp2",
        "colab": {
          "base_uri": "https://localhost:8080/",
          "height": 622
        },
        "outputId": "4dadcb6f-a4ab-4aee-d213-c1fd0c5b6dbe"
      },
      "source": [
        "import matplotlib.pyplot as plot\n",
        "df = pd.DataFrame({'Before_covid': [257, 106 , 10],\n",
        "                   'During_covid': [211, 138, 24]},\n",
        "                  index=['Less than 4hrs', '4-7 hrs','More than 7 hrs'])\n",
        "plot = df.plot.bar(subplots=True,figsize=(15, 9))"
      ],
      "execution_count": null,
      "outputs": [
        {
          "output_type": "display_data",
          "data": {
            "image/png": "[encoded data removed]",
            "text/plain": [
              "<Figure size 1080x648 with 2 Axes>"
            ]
          },
          "metadata": {
            "tags": []
          }
        }
      ]
    },
    {
      "cell_type": "code",
      "metadata": {
        "id": "EUGDKaKYZqac",
        "colab": {
          "base_uri": "https://localhost:8080/",
          "height": 84
        },
        "outputId": "d717c8a1-41a6-468c-e1d4-86ce0699c82b"
      },
      "source": [
        "data_male['During_online'].value_counts()"
      ],
      "execution_count": null,
      "outputs": [
        {
          "output_type": "execute_result",
          "data": {
            "text/plain": [
              "1    235\n",
              "0     95\n",
              "2     43\n",
              "Name: During_online, dtype: int64"
            ]
          },
          "metadata": {
            "tags": []
          },
          "execution_count": 46
        }
      ]
    },
    {
      "cell_type": "code",
      "metadata": {
        "id": "zKNn-5dPZrHf",
        "colab": {
          "base_uri": "https://localhost:8080/",
          "height": 84
        },
        "outputId": "b0037be7-0085-4d65-d41e-d1f2e4cb5328"
      },
      "source": [
        "data_male['Online_with_instructions'].value_counts()"
      ],
      "execution_count": null,
      "outputs": [
        {
          "output_type": "execute_result",
          "data": {
            "text/plain": [
              "1    250\n",
              "0    102\n",
              "2     21\n",
              "Name: Online_with_instructions, dtype: int64"
            ]
          },
          "metadata": {
            "tags": []
          },
          "execution_count": 47
        }
      ]
    },
    {
      "cell_type": "code",
      "metadata": {
        "id": "bJ-b0_5NZrmi",
        "colab": {
          "base_uri": "https://localhost:8080/",
          "height": 84
        },
        "outputId": "9ba416bc-d47a-468f-daaf-527ff6a4f704"
      },
      "source": [
        "data_male['Online_without_instructions'].value_counts()"
      ],
      "execution_count": null,
      "outputs": [
        {
          "output_type": "execute_result",
          "data": {
            "text/plain": [
              "0    285\n",
              "1     77\n",
              "2     11\n",
              "Name: Online_without_instructions, dtype: int64"
            ]
          },
          "metadata": {
            "tags": []
          },
          "execution_count": 48
        }
      ]
    },
    {
      "cell_type": "code",
      "metadata": {
        "id": "U36IzI4-Zq7b"
      },
      "source": [
        ""
      ],
      "execution_count": null,
      "outputs": []
    },
    {
      "cell_type": "code",
      "metadata": {
        "id": "x60yeHlfP8oY",
        "colab": {
          "base_uri": "https://localhost:8080/",
          "height": 337
        },
        "outputId": "8c8e0fc0-a9c6-4cf5-ef31-41cc58ef62fd"
      },
      "source": [
        "import matplotlib.pyplot as plot\n",
        "df = pd.DataFrame({'During_online': [235, 95 , 43],\n",
        "        \t        'Online_with_instructions': [250, 102 , 21],\n",
        "                   'Online_without_instructions': [285, 77 , 11]},\n",
        "                  index=['Less than 4hrs', '4-7 hrs','More than 7 hrs'])\n",
        "plot = df.plot.pie(subplots=True,figsize=(25, 10),autopct='%1.2f%%')"
      ],
      "execution_count": null,
      "outputs": [
        {
          "output_type": "display_data",
          "data": {
            "image/png": "[encoded data removed]",
            "text/plain": [
              "<Figure size 1800x720 with 3 Axes>"
            ]
          },
          "metadata": {
            "tags": []
          }
        }
      ]
    },
    {
      "cell_type": "code",
      "metadata": {
        "id": "l2LnVbNiaK3q",
        "colab": {
          "base_uri": "https://localhost:8080/",
          "height": 84
        },
        "outputId": "958b8ba9-60a7-4a45-d8d3-a5078bbbe5c8"
      },
      "source": [
        "data_male['Offline_without_instructions'].value_counts()"
      ],
      "execution_count": null,
      "outputs": [
        {
          "output_type": "execute_result",
          "data": {
            "text/plain": [
              "0    307\n",
              "1     53\n",
              "2     13\n",
              "Name: Offline_without_instructions, dtype: int64"
            ]
          },
          "metadata": {
            "tags": []
          },
          "execution_count": 50
        }
      ]
    },
    {
      "cell_type": "code",
      "metadata": {
        "id": "5x6gwylbaNVp",
        "colab": {
          "base_uri": "https://localhost:8080/",
          "height": 84
        },
        "outputId": "c6719e89-21a2-40fc-a644-320f5c8ae440"
      },
      "source": [
        "data_male['Offline_with_instructions'].value_counts()"
      ],
      "execution_count": null,
      "outputs": [
        {
          "output_type": "execute_result",
          "data": {
            "text/plain": [
              "0    308\n",
              "1     53\n",
              "2     12\n",
              "Name: Offline_with_instructions, dtype: int64"
            ]
          },
          "metadata": {
            "tags": []
          },
          "execution_count": 51
        }
      ]
    },
    {
      "cell_type": "code",
      "metadata": {
        "id": "51yahOfNaNLz",
        "colab": {
          "base_uri": "https://localhost:8080/",
          "height": 84
        },
        "outputId": "cc350188-a21f-460a-9ee5-8edc69bf7267"
      },
      "source": [
        "data_male['During_offline'].value_counts()"
      ],
      "execution_count": null,
      "outputs": [
        {
          "output_type": "execute_result",
          "data": {
            "text/plain": [
              "0    310\n",
              "1     48\n",
              "2     15\n",
              "Name: During_offline, dtype: int64"
            ]
          },
          "metadata": {
            "tags": []
          },
          "execution_count": 52
        }
      ]
    },
    {
      "cell_type": "code",
      "metadata": {
        "id": "QfVT4vmAP9OO",
        "colab": {
          "base_uri": "https://localhost:8080/",
          "height": 334
        },
        "outputId": "63845e28-ed21-47ea-cf35-bd0cf3eae3eb"
      },
      "source": [
        "import matplotlib.pyplot as plot\n",
        "df = pd.DataFrame({\n",
        "                   'During_offline': [310, 48 , 15],\n",
        "        \t        'Offline_with_instructions': [308, 53 , 12],\n",
        "                   'Offline_without_instructions': [307, 53 , 13]},\n",
        "                  index=[ 'Less than 4hrs', '4-7 hrs','More than 7 hrs'])\n",
        "plot = df.plot.pie(subplots=True,figsize=(25, 10),autopct='%1.2f%%')"
      ],
      "execution_count": null,
      "outputs": [
        {
          "output_type": "display_data",
          "data": {
            "image/png": "[encoded data removed]",
            "text/plain": [
              "<Figure size 1800x720 with 3 Axes>"
            ]
          },
          "metadata": {
            "tags": []
          }
        }
      ]
    },
    {
      "cell_type": "code",
      "metadata": {
        "id": "eXZZFIgRP9sB"
      },
      "source": [
        ""
      ],
      "execution_count": null,
      "outputs": []
    },
    {
      "cell_type": "markdown",
      "metadata": {
        "id": "2VujDQgZ4Kj0"
      },
      "source": [
        "**FEMALE**"
      ]
    },
    {
      "cell_type": "code",
      "metadata": {
        "id": "DBqosURaoHTX",
        "colab": {
          "base_uri": "https://localhost:8080/",
          "height": 84
        },
        "outputId": "fa04044e-f3f9-4196-ec3b-822b0eaab6bd"
      },
      "source": [
        "data_female['Before_covid'].value_counts()"
      ],
      "execution_count": null,
      "outputs": [
        {
          "output_type": "execute_result",
          "data": {
            "text/plain": [
              "0    172\n",
              "1     92\n",
              "2     11\n",
              "Name: Before_covid, dtype: int64"
            ]
          },
          "metadata": {
            "tags": []
          },
          "execution_count": 54
        }
      ]
    },
    {
      "cell_type": "code",
      "metadata": {
        "id": "sCeipIz8Cbca",
        "colab": {
          "base_uri": "https://localhost:8080/",
          "height": 84
        },
        "outputId": "26a47106-06ff-4564-948e-c8e4d98c9d97"
      },
      "source": [
        "data_female['During_covid'].value_counts()"
      ],
      "execution_count": null,
      "outputs": [
        {
          "output_type": "execute_result",
          "data": {
            "text/plain": [
              "0    141\n",
              "1    110\n",
              "2     24\n",
              "Name: During_covid, dtype: int64"
            ]
          },
          "metadata": {
            "tags": []
          },
          "execution_count": 55
        }
      ]
    },
    {
      "cell_type": "code",
      "metadata": {
        "id": "fOWSnmh1DUjY",
        "colab": {
          "base_uri": "https://localhost:8080/",
          "height": 513
        },
        "outputId": "3319460e-082c-4ae5-9d5d-8bde4f9ef208"
      },
      "source": [
        "import matplotlib.pyplot as plot\n",
        "df = pd.DataFrame({'Before_covid': [172, 92 , 11],\n",
        "                   'During_covid': [141, 110,24]},\n",
        "                  index=['Less than 4hrs', '4-7 hrs','More than 7 hrs'])\n",
        "plot = df.plot.bar(subplots=True,figsize=(6, 7))"
      ],
      "execution_count": null,
      "outputs": [
        {
          "output_type": "display_data",
          "data": {
            "image/png": "[encoded data removed]",
            "text/plain": [
              "<Figure size 432x504 with 2 Axes>"
            ]
          },
          "metadata": {
            "tags": []
          }
        }
      ]
    },
    {
      "cell_type": "code",
      "metadata": {
        "id": "SjQelqU5dwJa",
        "colab": {
          "base_uri": "https://localhost:8080/",
          "height": 361
        },
        "outputId": "5c645c29-993e-42d3-b3eb-6c0c906d3d17"
      },
      "source": [
        "colors = ['yellowgreen', 'lightcoral', 'lightskyblue']\n",
        "df = pd.DataFrame({'Before_covid': [172, 92 , 11],\n",
        "                   'During_covid': [141, 110,24]},\n",
        "                  index=['Less than 4hrs', '4-7 hrs','More than 7 hrs'])\n",
        "plot = df.plot.pie(subplots=True,figsize=(13, 12),autopct='%1.2f%%',colors=colors)\n"
      ],
      "execution_count": null,
      "outputs": [
        {
          "output_type": "display_data",
          "data": {
            "image/png": "[encoded data removed]",
            "text/plain": [
              "<Figure size 936x864 with 2 Axes>"
            ]
          },
          "metadata": {
            "tags": []
          }
        }
      ]
    },
    {
      "cell_type": "code",
      "metadata": {
        "id": "sngo8_HGdvul"
      },
      "source": [
        ""
      ],
      "execution_count": null,
      "outputs": []
    },
    {
      "cell_type": "code",
      "metadata": {
        "id": "NxBXvlpBa-nD",
        "colab": {
          "base_uri": "https://localhost:8080/",
          "height": 84
        },
        "outputId": "c00c64ca-7438-40c9-ce13-4ca2d9ae54b9"
      },
      "source": [
        "data_female['During_online'].value_counts()"
      ],
      "execution_count": null,
      "outputs": [
        {
          "output_type": "execute_result",
          "data": {
            "text/plain": [
              "1    171\n",
              "0     64\n",
              "2     40\n",
              "Name: During_online, dtype: int64"
            ]
          },
          "metadata": {
            "tags": []
          },
          "execution_count": 58
        }
      ]
    },
    {
      "cell_type": "code",
      "metadata": {
        "id": "hCxAHM-sa-JF",
        "colab": {
          "base_uri": "https://localhost:8080/",
          "height": 84
        },
        "outputId": "517d0f8e-f9a5-49ee-afb8-72d82073fb5f"
      },
      "source": [
        "data_female['Online_with_instructions'].value_counts()"
      ],
      "execution_count": null,
      "outputs": [
        {
          "output_type": "execute_result",
          "data": {
            "text/plain": [
              "1    178\n",
              "0     78\n",
              "2     19\n",
              "Name: Online_with_instructions, dtype: int64"
            ]
          },
          "metadata": {
            "tags": []
          },
          "execution_count": 59
        }
      ]
    },
    {
      "cell_type": "code",
      "metadata": {
        "id": "4PEftTEda9hr",
        "colab": {
          "base_uri": "https://localhost:8080/",
          "height": 84
        },
        "outputId": "0bf588b0-aa6c-45b9-b395-12341cf5d58a"
      },
      "source": [
        "data_female['Online_without_instructions'].value_counts()"
      ],
      "execution_count": null,
      "outputs": [
        {
          "output_type": "execute_result",
          "data": {
            "text/plain": [
              "0    192\n",
              "1     67\n",
              "2     16\n",
              "Name: Online_without_instructions, dtype: int64"
            ]
          },
          "metadata": {
            "tags": []
          },
          "execution_count": 60
        }
      ]
    },
    {
      "cell_type": "code",
      "metadata": {
        "id": "SFVFOv2Q3_hS",
        "colab": {
          "base_uri": "https://localhost:8080/",
          "height": 337
        },
        "outputId": "683a0d90-a3c0-4ba3-ffe2-3d94ae6509d5"
      },
      "source": [
        "\n",
        "df = pd.DataFrame({'During_online': [171, 64 , 40],\n",
        "        \t        'Online_with_instructions': [178, 78, 19],\n",
        "                   'Online_without_instructions': [192, 67 , 16]},\n",
        "                  index=['Less than 4hrs', '4-7 hrs','More than 7 hrs'])\n",
        "plot = df.plot.pie(subplots=True,figsize=(25, 10),autopct='%1.2f%%')"
      ],
      "execution_count": null,
      "outputs": [
        {
          "output_type": "display_data",
          "data": {
            "image/png": "[encoded data removed]",
            "text/plain": [
              "<Figure size 1800x720 with 3 Axes>"
            ]
          },
          "metadata": {
            "tags": []
          }
        }
      ]
    },
    {
      "cell_type": "code",
      "metadata": {
        "id": "dXrz3s-Ga_eS",
        "colab": {
          "base_uri": "https://localhost:8080/",
          "height": 84
        },
        "outputId": "b4319900-8738-4d67-f5ba-5b2db4b3f3f1"
      },
      "source": [
        "data_female['During_offline'].value_counts()"
      ],
      "execution_count": null,
      "outputs": [
        {
          "output_type": "execute_result",
          "data": {
            "text/plain": [
              "0    210\n",
              "1     53\n",
              "2     12\n",
              "Name: During_offline, dtype: int64"
            ]
          },
          "metadata": {
            "tags": []
          },
          "execution_count": 62
        }
      ]
    },
    {
      "cell_type": "code",
      "metadata": {
        "id": "B7GByIn5a-8M",
        "colab": {
          "base_uri": "https://localhost:8080/",
          "height": 84
        },
        "outputId": "bdce4d04-5a03-48f7-92b4-e58a1d09ba91"
      },
      "source": [
        "data_female['Offline_without_instructions'].value_counts()"
      ],
      "execution_count": null,
      "outputs": [
        {
          "output_type": "execute_result",
          "data": {
            "text/plain": [
              "0    212\n",
              "1     57\n",
              "2      6\n",
              "Name: Offline_without_instructions, dtype: int64"
            ]
          },
          "metadata": {
            "tags": []
          },
          "execution_count": 63
        }
      ]
    },
    {
      "cell_type": "code",
      "metadata": {
        "id": "G4tJM6LIa_rA",
        "colab": {
          "base_uri": "https://localhost:8080/",
          "height": 84
        },
        "outputId": "e21b3e59-9be3-461c-f9c5-eb0f78165dc1"
      },
      "source": [
        "data_female['Offline_with_instructions'].value_counts()"
      ],
      "execution_count": null,
      "outputs": [
        {
          "output_type": "execute_result",
          "data": {
            "text/plain": [
              "0    207\n",
              "1     57\n",
              "2     11\n",
              "Name: Offline_with_instructions, dtype: int64"
            ]
          },
          "metadata": {
            "tags": []
          },
          "execution_count": 64
        }
      ]
    },
    {
      "cell_type": "code",
      "metadata": {
        "id": "QvRpP10QXl_5",
        "colab": {
          "base_uri": "https://localhost:8080/",
          "height": 337
        },
        "outputId": "5a21e7ca-2dd7-4489-ae29-e6b2b72e4772"
      },
      "source": [
        "\n",
        "df = pd.DataFrame({\n",
        "                   'During_offline': [210,53,12],\n",
        "        \t        'Offline_with_instructions': [212,57,6],\n",
        "                   'Offline_without_instructions': [207,57,11]},\n",
        "                  index=[ 'Less than 4hrs', '4-7 hrs','More than 7 hrs'])\n",
        "plot = df.plot.pie(subplots=True,figsize=(25, 10),autopct='%1.2f%%')\n"
      ],
      "execution_count": null,
      "outputs": [
        {
          "output_type": "display_data",
          "data": {
            "image/png": "[encoded data removed]",
            "text/plain": [
              "<Figure size 1800x720 with 3 Axes>"
            ]
          },
          "metadata": {
            "tags": []
          }
        }
      ]
    },
    {
      "cell_type": "markdown",
      "metadata": {
        "id": "ajhYfrrEYp-v"
      },
      "source": [
        "Gender\n",
        "['Female' 'Male']\n",
        "Standard\n",
        "['College Level ( 1st /2nd /3rd /4th ) year' '09-Dec' '05-Aug']\n",
        "Institute\n",
        "['Public' 'Private' 'International']\n",
        "Subject\n",
        "['Technical' 'Science' 'Commerce' 'Arts' 'Medical']\n",
        "Performance\n",
        "['Excellent' 'Good' 'Average' 'Below Average']\n",
        "Before_covid\n",
        "['less than  4 hrs' '4-7 hrs' 'above 7 hrs']\n",
        "During_covid\n",
        "['4-7 hrs' 'less than  4 hrs' 'above 7 hrs']\n",
        "During_online\n",
        "['above 7 hrs' 'less than 4 hrs' '4-7 hrs']\n",
        "Online_with_instructions\n",
        "['4-7 hrs' 'less than 4 hrs' 'above 7 hrs']\n",
        "Online_without_instructions\n",
        "['4-7 hrs' 'less than 4 hrs' 'above 7 hrs']\n",
        "During_offline\n",
        "['less than 4 hrs' '4-7 hrs' 'above 7 hrs']\n",
        "Offline_with_instructions\n",
        "['less than 4 hrs' '4-7 hrs' 'above 7 hrs']\n",
        "Offline_without_instructions\n",
        "['4-7 hrs' 'less than 4 hrs' 'above 7 hrs']\n",
        "Assurance\n",
        "['Agree' 'Neither agree nor disagree' 'Strongly Agree' 'Disagree'\n",
        " 'Strongly disagree']"
      ]
    },
    {
      "cell_type": "code",
      "metadata": {
        "id": "sAS4KkNVYOmt",
        "colab": {
          "base_uri": "https://localhost:8080/",
          "height": 374
        },
        "outputId": "95fb3224-c568-446d-85ae-400d5b8e26c9"
      },
      "source": [
        "import matplotlib.pyplot as plt\n",
        "size = data[\"Subject\"].value_counts()\n",
        "label = ['Technical','Science','Commerce','Arts','Medical']\n",
        "plt.rcParams[\"figure.figsize\"] = (6, 6)\n",
        "plt.pie(size,labels =label, autopct = \"%1.2f%%\")\n",
        "plt.legend(loc = (1.0, 0.5))"
      ],
      "execution_count": null,
      "outputs": [
        {
          "output_type": "execute_result",
          "data": {
            "text/plain": [
              "<matplotlib.legend.Legend at 0x7fa3674a75c0>"
            ]
          },
          "metadata": {
            "tags": []
          },
          "execution_count": 66
        },
        {
          "output_type": "display_data",
          "data": {
            "image/png": "[encoded data removed]",
            "text/plain": [
              "<Figure size 432x432 with 1 Axes>"
            ]
          },
          "metadata": {
            "tags": []
          }
        }
      ]
    },
    {
      "cell_type": "code",
      "metadata": {
        "id": "Y_FKJZHsYmVg",
        "colab": {
          "base_uri": "https://localhost:8080/",
          "height": 374
        },
        "outputId": "213ce504-665d-4e5c-8a50-3befddee124f"
      },
      "source": [
        "import matplotlib.pyplot as plt\n",
        "size = data[\"Performance\"].value_counts()\n",
        "label = ['Excellent','Good','Average','Below Average']\n",
        "plt.rcParams[\"figure.figsize\"] = (6, 6)\n",
        "plt.pie(size,labels =label, autopct = \"%1.2f%%\")\n",
        "plt.legend(loc = (1.0, 0.5))"
      ],
      "execution_count": null,
      "outputs": [
        {
          "output_type": "execute_result",
          "data": {
            "text/plain": [
              "<matplotlib.legend.Legend at 0x7fa368f44be0>"
            ]
          },
          "metadata": {
            "tags": []
          },
          "execution_count": 67
        },
        {
          "output_type": "display_data",
          "data": {
            "image/png": "[encoded data removed]",
            "text/plain": [
              "<Figure size 432x432 with 1 Axes>"
            ]
          },
          "metadata": {
            "tags": []
          }
        }
      ]
    },
    {
      "cell_type": "code",
      "metadata": {
        "id": "cWC1puGXMich",
        "colab": {
          "base_uri": "https://localhost:8080/",
          "height": 472
        },
        "outputId": "a83445da-5648-457d-c359-f3a0d85b7dfd"
      },
      "source": [
        "plt.rcParams[\"figure.figsize\"] = (10,5)\n",
        "\n",
        "plot = sns.countplot(data['Assurance'],palette='hsv')\n",
        "plot.set_xticklabels([\"Strongly Disagree\",\"Disagree\",\"Neither Agree or Disagree\",\"Agree\",\"Strongly Agree\"])\n"
      ],
      "execution_count": null,
      "outputs": [
        {
          "output_type": "stream",
          "text": [
            "/usr/local/lib/python3.6/dist-packages/seaborn/_decorators.py:43: FutureWarning: Pass the following variable as a keyword arg: x. From version 0.12, the only valid positional argument will be `data`, and passing other arguments without an explicit keyword will result in an error or misinterpretation.\n",
            "  FutureWarning\n"
          ],
          "name": "stderr"
        },
        {
          "output_type": "execute_result",
          "data": {
            "text/plain": [
              "[Text(0, 0, 'Strongly Disagree'),\n",
              " Text(0, 0, 'Disagree'),\n",
              " Text(0, 0, 'Neither Agree or Disagree'),\n",
              " Text(0, 0, 'Agree'),\n",
              " Text(0, 0, 'Strongly Agree')]"
            ]
          },
          "metadata": {
            "tags": []
          },
          "execution_count": 68
        },
        {
          "output_type": "display_data",
          "data": {
            "image/png": "[encoded data removed]",
            "text/plain": [
              "<Figure size 720x360 with 1 Axes>"
            ]
          },
          "metadata": {
            "tags": []
          }
        }
      ]
    },
    {
      "cell_type": "markdown",
      "metadata": {
        "id": "OSkyfye38BNo"
      },
      "source": [
        "**1** **How much time did students invested before and investing during Covid based on their subject stream/ gender?**"
      ]
    },
    {
      "cell_type": "code",
      "metadata": {
        "id": "3lIu0x7f8DpP",
        "colab": {
          "base_uri": "https://localhost:8080/",
          "height": 386
        },
        "outputId": "2205e561-be64-4804-e07e-82d28d7b497b"
      },
      "source": [
        "a = sns.barplot(x='Before_covid',y='During_covid',hue=dataset['Gender'],data=data,palette='hsv')\n",
        "a.set_xticklabels(['less than 4 hrs','4-7 hours','Above 7 hours'])\n"
      ],
      "execution_count": null,
      "outputs": [
        {
          "output_type": "execute_result",
          "data": {
            "text/plain": [
              "[Text(0, 0, 'less than 4 hrs'),\n",
              " Text(0, 0, '4-7 hours'),\n",
              " Text(0, 0, 'Above 7 hours')]"
            ]
          },
          "metadata": {
            "tags": []
          },
          "execution_count": 69
        },
        {
          "output_type": "display_data",
          "data": {
            "image/png": "[encoded data removed]",
            "text/plain": [
              "<Figure size 720x360 with 1 Axes>"
            ]
          },
          "metadata": {
            "tags": []
          }
        }
      ]
    },
    {
      "cell_type": "code",
      "metadata": {
        "id": "a4hDj7FXcOLR",
        "colab": {
          "base_uri": "https://localhost:8080/",
          "height": 136
        },
        "outputId": "4f142adb-61ac-4ea1-e817-c92e53780c73"
      },
      "source": [
        "pd.crosstab(data['Gender'], data['Before_covid'])"
      ],
      "execution_count": null,
      "outputs": [
        {
          "output_type": "execute_result",
          "data": {
            "text/html": [
              "<div>\n",
              "<style scoped>\n",
              "    .dataframe tbody tr th:only-of-type {\n",
              "        vertical-align: middle;\n",
              "    }\n",
              "\n",
              "    .dataframe tbody tr th {\n",
              "        vertical-align: top;\n",
              "    }\n",
              "\n",
              "    .dataframe thead th {\n",
              "        text-align: right;\n",
              "    }\n",
              "</style>\n",
              "<table border=\"1\" class=\"dataframe\">\n",
              "  <thead>\n",
              "    <tr style=\"text-align: right;\">\n",
              "      <th>Before_covid</th>\n",
              "      <th>0</th>\n",
              "      <th>1</th>\n",
              "      <th>2</th>\n",
              "    </tr>\n",
              "    <tr>\n",
              "      <th>Gender</th>\n",
              "      <th></th>\n",
              "      <th></th>\n",
              "      <th></th>\n",
              "    </tr>\n",
              "  </thead>\n",
              "  <tbody>\n",
              "    <tr>\n",
              "      <th>0</th>\n",
              "      <td>257</td>\n",
              "      <td>106</td>\n",
              "      <td>10</td>\n",
              "    </tr>\n",
              "    <tr>\n",
              "      <th>1</th>\n",
              "      <td>172</td>\n",
              "      <td>92</td>\n",
              "      <td>11</td>\n",
              "    </tr>\n",
              "  </tbody>\n",
              "</table>\n",
              "</div>"
            ],
            "text/plain": [
              "Before_covid    0    1   2\n",
              "Gender                    \n",
              "0             257  106  10\n",
              "1             172   92  11"
            ]
          },
          "metadata": {
            "tags": []
          },
          "execution_count": 70
        }
      ]
    },
    {
      "cell_type": "code",
      "metadata": {
        "id": "d5V3t9p18_IA",
        "colab": {
          "base_uri": "https://localhost:8080/",
          "height": 401
        },
        "outputId": "8acc6f2a-7139-4d12-ca66-c777f30a91ab"
      },
      "source": [
        "a = sns.catplot(x='Before_covid',y='Subject',hue='Gender',data=data)\n",
        "sns.light_palette(\"seagreen\", as_cmap=True)\n",
        "a.set_xticklabels(['less than 4 hrs','4-7 hrs','above 7 hrs'])\n",
        "a.set_yticklabels(['Science','Arts','Commerce','Technical','Medical'])"
      ],
      "execution_count": null,
      "outputs": [
        {
          "output_type": "execute_result",
          "data": {
            "text/plain": [
              "<seaborn.axisgrid.FacetGrid at 0x7fa36754a630>"
            ]
          },
          "metadata": {
            "tags": []
          },
          "execution_count": 71
        },
        {
          "output_type": "display_data",
          "data": {
            "image/png": "[encoded data removed]",
            "text/plain": [
              "<Figure size 404.875x360 with 1 Axes>"
            ]
          },
          "metadata": {
            "tags": []
          }
        }
      ]
    },
    {
      "cell_type": "code",
      "metadata": {
        "id": "VRduCFADiVkj"
      },
      "source": [
        "#stream wise data"
      ],
      "execution_count": null,
      "outputs": []
    },
    {
      "cell_type": "markdown",
      "metadata": {
        "id": "1w4Bh9wjC25X"
      },
      "source": [
        "**2** **How much time do they spend in online and offline teaching during the pandemic? Compare on the institution type.**"
      ]
    },
    {
      "cell_type": "code",
      "metadata": {
        "id": "bcVF3h8qmj9G",
        "colab": {
          "base_uri": "https://localhost:8080/",
          "height": 386
        },
        "outputId": "817fcf82-4d66-450e-c605-4c747faf5482"
      },
      "source": [
        "a = sns.barplot(x='Online_with_instructions',y='Online_without_instructions',hue=dataset['Institute'],data=data,palette='hsv')\n",
        "a.set_xticklabels(['less than 4 hrs','4-7 hrs','above 7 hrs'])"
      ],
      "execution_count": null,
      "outputs": [
        {
          "output_type": "execute_result",
          "data": {
            "text/plain": [
              "[Text(0, 0, 'less than 4 hrs'),\n",
              " Text(0, 0, '4-7 hrs'),\n",
              " Text(0, 0, 'above 7 hrs')]"
            ]
          },
          "metadata": {
            "tags": []
          },
          "execution_count": 73
        },
        {
          "output_type": "display_data",
          "data": {
            "image/png": "[encoded data removed]",
            "text/plain": [
              "<Figure size 720x360 with 1 Axes>"
            ]
          },
          "metadata": {
            "tags": []
          }
        }
      ]
    },
    {
      "cell_type": "code",
      "metadata": {
        "id": "eDDEKVtuXVyr",
        "colab": {
          "base_uri": "https://localhost:8080/",
          "height": 385
        },
        "outputId": "7d8278af-3512-424e-bdd9-8bfd7d6b1663"
      },
      "source": [
        "a = sns.violinplot(x=dataset['Institute'],y='During_online',data=data)\n",
        "a.set_yticks([0, 1, 2])\n",
        "a.set_yticklabels(['less than 4 hours', '4-7 hours', 'above 7 hours'])"
      ],
      "execution_count": null,
      "outputs": [
        {
          "output_type": "execute_result",
          "data": {
            "text/plain": [
              "[Text(0, 0, 'less than 4 hours'),\n",
              " Text(0, 0, '4-7 hours'),\n",
              " Text(0, 0, 'above 7 hours')]"
            ]
          },
          "metadata": {
            "tags": []
          },
          "execution_count": 74
        },
        {
          "output_type": "display_data",
          "data": {
            "image/png": "[encoded data removed]",
            "text/plain": [
              "<Figure size 720x360 with 1 Axes>"
            ]
          },
          "metadata": {
            "tags": []
          }
        }
      ]
    },
    {
      "cell_type": "code",
      "metadata": {
        "id": "nbjf1EeZZyr3",
        "colab": {
          "base_uri": "https://localhost:8080/",
          "height": 385
        },
        "outputId": "473f5197-1f24-4bb2-fb0d-6636a7c8863e"
      },
      "source": [
        "a = sns.violinplot(x=dataset['Institute'],y='During_offline',data=data)\n",
        "a.set_yticks([0, 1, 2])\n",
        "a.set_yticklabels(['less than 4 hours', '4-7 hours', 'above 7 hours'])"
      ],
      "execution_count": null,
      "outputs": [
        {
          "output_type": "execute_result",
          "data": {
            "text/plain": [
              "[Text(0, 0, 'less than 4 hours'),\n",
              " Text(0, 0, '4-7 hours'),\n",
              " Text(0, 0, 'above 7 hours')]"
            ]
          },
          "metadata": {
            "tags": []
          },
          "execution_count": 75
        },
        {
          "output_type": "display_data",
          "data": {
            "image/png": "[encoded data removed]",
            "text/plain": [
              "<Figure size 720x360 with 1 Axes>"
            ]
          },
          "metadata": {
            "tags": []
          }
        }
      ]
    },
    {
      "cell_type": "code",
      "metadata": {
        "id": "eesRi0Hv8r1h",
        "colab": {
          "base_uri": "https://localhost:8080/",
          "height": 416
        },
        "outputId": "2e13ea0b-fb5f-4a40-ac1a-2db269a1bc08"
      },
      "source": [
        "sns.catplot(x = 'Online_without_instructions',data=dataset,kind = 'count',col_wrap=3,col='Institute',size=4,aspect=0.4,sharex=False,sharey=False)"
      ],
      "execution_count": null,
      "outputs": [
        {
          "output_type": "stream",
          "text": [
            "/usr/local/lib/python3.6/dist-packages/seaborn/categorical.py:3737: UserWarning: The `size` parameter has been renamed to `height`; please update your code.\n",
            "  warnings.warn(msg, UserWarning)\n",
            "/usr/local/lib/python3.6/dist-packages/seaborn/categorical.py:3793: UserWarning: Setting `sharex=False` with `color=None` may cause different levels of the `x` variable to share colors. This will change in a future version.\n",
            "  warnings.warn(msg.format(\"sharex\", \"x\"), UserWarning)\n"
          ],
          "name": "stderr"
        },
        {
          "output_type": "execute_result",
          "data": {
            "text/plain": [
              "<seaborn.axisgrid.FacetGrid at 0x7fa368eb1278>"
            ]
          },
          "metadata": {
            "tags": []
          },
          "execution_count": 76
        },
        {
          "output_type": "display_data",
          "data": {
            "image/png": "[encoded data removed]",
            "text/plain": [
              "<Figure size 345.6x288 with 3 Axes>"
            ]
          },
          "metadata": {
            "tags": []
          }
        }
      ]
    },
    {
      "cell_type": "code",
      "metadata": {
        "id": "VxUptfhm-Bmn",
        "colab": {
          "base_uri": "https://localhost:8080/",
          "height": 416
        },
        "outputId": "112cc6c5-1c88-480e-adf4-1b198c06b27d"
      },
      "source": [
        "sns.catplot(x = 'Online_with_instructions',data=data,kind = 'count',col_wrap=3,col='Institute',size=4,aspect=0.6,sharex=False,sharey=False)"
      ],
      "execution_count": null,
      "outputs": [
        {
          "output_type": "stream",
          "text": [
            "/usr/local/lib/python3.6/dist-packages/seaborn/categorical.py:3737: UserWarning: The `size` parameter has been renamed to `height`; please update your code.\n",
            "  warnings.warn(msg, UserWarning)\n",
            "/usr/local/lib/python3.6/dist-packages/seaborn/categorical.py:3793: UserWarning: Setting `sharex=False` with `color=None` may cause different levels of the `x` variable to share colors. This will change in a future version.\n",
            "  warnings.warn(msg.format(\"sharex\", \"x\"), UserWarning)\n"
          ],
          "name": "stderr"
        },
        {
          "output_type": "execute_result",
          "data": {
            "text/plain": [
              "<seaborn.axisgrid.FacetGrid at 0x7fa367372fd0>"
            ]
          },
          "metadata": {
            "tags": []
          },
          "execution_count": 77
        },
        {
          "output_type": "display_data",
          "data": {
            "image/png": "[encoded data removed]",
            "text/plain": [
              "<Figure size 518.4x288 with 3 Axes>"
            ]
          },
          "metadata": {
            "tags": []
          }
        }
      ]
    },
    {
      "cell_type": "code",
      "metadata": {
        "id": "XRefODpuEmvE",
        "colab": {
          "base_uri": "https://localhost:8080/",
          "height": 394
        },
        "outputId": "26d20efc-9571-4498-d3a5-f6b6ac0ecb39"
      },
      "source": [
        "a = sns.barplot(x='Online_without_instructions',y='Online_with_instructions',hue=dataset['Institute'],data=data)\n",
        "sns.color_palette(\"Paired\")\n",
        "#a.set_xticklabels(['less than 4 hrs','4-7 hrs','above 7 hrs'])"
      ],
      "execution_count": null,
      "outputs": [
        {
          "output_type": "execute_result",
          "data": {
            "text/html": [
              "<svg  width=\"660\" height=\"55\"><rect x=\"0\" y=\"0\" width=\"55\" height=\"55\" style=\"fill:#a6cee3;stroke-width:2;stroke:rgb(255,255,255)\"/><rect x=\"55\" y=\"0\" width=\"55\" height=\"55\" style=\"fill:#1f78b4;stroke-width:2;stroke:rgb(255,255,255)\"/><rect x=\"110\" y=\"0\" width=\"55\" height=\"55\" style=\"fill:#b2df8a;stroke-width:2;stroke:rgb(255,255,255)\"/><rect x=\"165\" y=\"0\" width=\"55\" height=\"55\" style=\"fill:#33a02c;stroke-width:2;stroke:rgb(255,255,255)\"/><rect x=\"220\" y=\"0\" width=\"55\" height=\"55\" style=\"fill:#fb9a99;stroke-width:2;stroke:rgb(255,255,255)\"/><rect x=\"275\" y=\"0\" width=\"55\" height=\"55\" style=\"fill:#e31a1c;stroke-width:2;stroke:rgb(255,255,255)\"/><rect x=\"330\" y=\"0\" width=\"55\" height=\"55\" style=\"fill:#fdbf6f;stroke-width:2;stroke:rgb(255,255,255)\"/><rect x=\"385\" y=\"0\" width=\"55\" height=\"55\" style=\"fill:#ff7f00;stroke-width:2;stroke:rgb(255,255,255)\"/><rect x=\"440\" y=\"0\" width=\"55\" height=\"55\" style=\"fill:#cab2d6;stroke-width:2;stroke:rgb(255,255,255)\"/><rect x=\"495\" y=\"0\" width=\"55\" height=\"55\" style=\"fill:#6a3d9a;stroke-width:2;stroke:rgb(255,255,255)\"/><rect x=\"550\" y=\"0\" width=\"55\" height=\"55\" style=\"fill:#ffff99;stroke-width:2;stroke:rgb(255,255,255)\"/><rect x=\"605\" y=\"0\" width=\"55\" height=\"55\" style=\"fill:#b15928;stroke-width:2;stroke:rgb(255,255,255)\"/></svg>"
            ],
            "text/plain": [
              "[(0.6509803921568628, 0.807843137254902, 0.8901960784313725),\n",
              " (0.12156862745098039, 0.47058823529411764, 0.7058823529411765),\n",
              " (0.6980392156862745, 0.8745098039215686, 0.5411764705882353),\n",
              " (0.2, 0.6274509803921569, 0.17254901960784313),\n",
              " (0.984313725490196, 0.6039215686274509, 0.6),\n",
              " (0.8901960784313725, 0.10196078431372549, 0.10980392156862745),\n",
              " (0.9921568627450981, 0.7490196078431373, 0.43529411764705883),\n",
              " (1.0, 0.4980392156862745, 0.0),\n",
              " (0.792156862745098, 0.6980392156862745, 0.8392156862745098),\n",
              " (0.41568627450980394, 0.23921568627450981, 0.6039215686274509),\n",
              " (1.0, 1.0, 0.6),\n",
              " (0.6941176470588235, 0.34901960784313724, 0.1568627450980392)]"
            ]
          },
          "metadata": {
            "tags": []
          },
          "execution_count": 78
        },
        {
          "output_type": "display_data",
          "data": {
            "image/png": "[encoded data removed]",
            "text/plain": [
              "<Figure size 720x360 with 1 Axes>"
            ]
          },
          "metadata": {
            "tags": []
          }
        }
      ]
    },
    {
      "cell_type": "code",
      "metadata": {
        "id": "7bUtHOmy-8i6",
        "colab": {
          "base_uri": "https://localhost:8080/",
          "height": 386
        },
        "outputId": "7defefd9-325e-4833-83c5-bf4cb07764cf"
      },
      "source": [
        "a = sns.barplot(x='Offline_without_instructions',y='Offline_with_instructions',hue=dataset['Institute'],data=data,palette='hsv')\n",
        "a.set_xticklabels(['less than 4 hrs','4-7 hrs','above 7 hrs'])"
      ],
      "execution_count": null,
      "outputs": [
        {
          "output_type": "execute_result",
          "data": {
            "text/plain": [
              "[Text(0, 0, 'less than 4 hrs'),\n",
              " Text(0, 0, '4-7 hrs'),\n",
              " Text(0, 0, 'above 7 hrs')]"
            ]
          },
          "metadata": {
            "tags": []
          },
          "execution_count": 79
        },
        {
          "output_type": "display_data",
          "data": {
            "image/png": "[encoded data removed]",
            "text/plain": [
              "<Figure size 720x360 with 1 Axes>"
            ]
          },
          "metadata": {
            "tags": []
          }
        }
      ]
    },
    {
      "cell_type": "code",
      "metadata": {
        "id": "pSsOnxTkBcoV",
        "colab": {
          "base_uri": "https://localhost:8080/",
          "height": 386
        },
        "outputId": "864c8a4d-a96f-45c2-9107-ed096ab928db"
      },
      "source": [
        "a = sns.barplot(x='Offline_without_instructions',y='Offline_with_instructions',hue=dataset['Institute'],data=data)\n",
        "sns.color_palette(\"Paired\")\n",
        "a.set_xticklabels(['less than 4 hrs','4-7 hrs','above 7 hrs'])\n"
      ],
      "execution_count": null,
      "outputs": [
        {
          "output_type": "execute_result",
          "data": {
            "text/plain": [
              "[Text(0, 0, 'less than 4 hrs'),\n",
              " Text(0, 0, '4-7 hrs'),\n",
              " Text(0, 0, 'above 7 hrs')]"
            ]
          },
          "metadata": {
            "tags": []
          },
          "execution_count": 80
        },
        {
          "output_type": "display_data",
          "data": {
            "image/png": "[encoded data removed]",
            "text/plain": [
              "<Figure size 720x360 with 1 Axes>"
            ]
          },
          "metadata": {
            "tags": []
          }
        }
      ]
    },
    {
      "cell_type": "markdown",
      "metadata": {
        "id": "DkX2O_OGC865"
      },
      "source": [
        "**3**  **Performance-subject- before.**"
      ]
    },
    {
      "cell_type": "code",
      "metadata": {
        "id": "-440asIkkrFO",
        "colab": {
          "base_uri": "https://localhost:8080/",
          "height": 418
        },
        "outputId": "8deb15ee-ccb3-4e53-9d72-7c955e69355f"
      },
      "source": [
        "a = sns.barplot(x='Subject',y='Before_covid',hue=dataset['Performance'],data=data,palette='hsv')\n",
        "a.set_xticklabels(['Science','Arts','Commerce','Technical','Medical'])"
      ],
      "execution_count": null,
      "outputs": [
        {
          "output_type": "execute_result",
          "data": {
            "text/plain": [
              "[Text(0, 0, 'Science'),\n",
              " Text(0, 0, 'Arts'),\n",
              " Text(0, 0, 'Commerce'),\n",
              " Text(0, 0, 'Technical'),\n",
              " Text(0, 0, 'Medical')]"
            ]
          },
          "metadata": {
            "tags": []
          },
          "execution_count": 92
        },
        {
          "output_type": "display_data",
          "data": {
            "image/png": "[encoded data removed]",
            "text/plain": [
              "<Figure size 720x360 with 1 Axes>"
            ]
          },
          "metadata": {
            "tags": []
          }
        }
      ]
    },
    {
      "cell_type": "code",
      "metadata": {
        "id": "iKrFw_NQ6QlC",
        "colab": {
          "base_uri": "https://localhost:8080/",
          "height": 351
        },
        "outputId": "05e9b38b-4eff-4087-aa14-2d9d3d7cd566"
      },
      "source": [
        "a = sns.barplot(x='Institute',y='Before_covid',hue=dataset['Performance'],data=data,palette='rocket')\n",
        "a.set_xticklabels(['Public','Private','Interational'])"
      ],
      "execution_count": null,
      "outputs": [
        {
          "output_type": "execute_result",
          "data": {
            "text/plain": [
              "[Text(0, 0, 'Public'), Text(0, 0, 'Private'), Text(0, 0, 'Interational')]"
            ]
          },
          "metadata": {
            "tags": []
          },
          "execution_count": 90
        },
        {
          "output_type": "display_data",
          "data": {
            "image/png": "[encoded data removed]",
            "text/plain": [
              "<Figure size 720x360 with 1 Axes>"
            ]
          },
          "metadata": {
            "tags": []
          }
        }
      ]
    },
    {
      "cell_type": "markdown",
      "metadata": {
        "id": "jOhtQIE2DYGH"
      },
      "source": [
        "**4** **Institute- online/ offline (only during).**"
      ]
    },
    {
      "cell_type": "code",
      "metadata": {
        "id": "6KRZtgIQHmZX",
        "colab": {
          "base_uri": "https://localhost:8080/",
          "height": 386
        },
        "outputId": "d0509b26-e2f0-4783-f619-a3b69b7a2ba3"
      },
      "source": [
        "a = sns.barplot(x='During_online',y='During_offline',hue=dataset['Institute'],data=data,palette='hsv')\n",
        "a.set_xticklabels(['less than 4 hrs','4-7 hrs','above 7 hrs'])"
      ],
      "execution_count": null,
      "outputs": [
        {
          "output_type": "execute_result",
          "data": {
            "text/plain": [
              "[Text(0, 0, 'less than 4 hrs'),\n",
              " Text(0, 0, '4-7 hrs'),\n",
              " Text(0, 0, 'above 7 hrs')]"
            ]
          },
          "metadata": {
            "tags": []
          },
          "execution_count": 82
        },
        {
          "output_type": "display_data",
          "data": {
            "image/png": "[encoded data removed]",
            "text/plain": [
              "<Figure size 720x360 with 1 Axes>"
            ]
          },
          "metadata": {
            "tags": []
          }
        }
      ]
    },
    {
      "cell_type": "code",
      "metadata": {
        "id": "aa-ZILZtDb3W"
      },
      "source": [
        ""
      ],
      "execution_count": null,
      "outputs": []
    },
    {
      "cell_type": "markdown",
      "metadata": {
        "id": "ATo_6-HKDk-Y"
      },
      "source": [
        "**5** **Assurance- subject-performance**"
      ]
    },
    {
      "cell_type": "code",
      "metadata": {
        "id": "lZoF0fE6ZaOt",
        "colab": {
          "base_uri": "https://localhost:8080/",
          "height": 136
        },
        "outputId": "14dc7868-0934-49b1-f8c9-c22ad717899f"
      },
      "source": [
        "pd.crosstab(data['Gender'], data['During_covid'])"
      ],
      "execution_count": null,
      "outputs": [
        {
          "output_type": "execute_result",
          "data": {
            "text/html": [
              "<div>\n",
              "<style scoped>\n",
              "    .dataframe tbody tr th:only-of-type {\n",
              "        vertical-align: middle;\n",
              "    }\n",
              "\n",
              "    .dataframe tbody tr th {\n",
              "        vertical-align: top;\n",
              "    }\n",
              "\n",
              "    .dataframe thead th {\n",
              "        text-align: right;\n",
              "    }\n",
              "</style>\n",
              "<table border=\"1\" class=\"dataframe\">\n",
              "  <thead>\n",
              "    <tr style=\"text-align: right;\">\n",
              "      <th>During_covid</th>\n",
              "      <th>0</th>\n",
              "      <th>1</th>\n",
              "      <th>2</th>\n",
              "    </tr>\n",
              "    <tr>\n",
              "      <th>Gender</th>\n",
              "      <th></th>\n",
              "      <th></th>\n",
              "      <th></th>\n",
              "    </tr>\n",
              "  </thead>\n",
              "  <tbody>\n",
              "    <tr>\n",
              "      <th>0</th>\n",
              "      <td>211</td>\n",
              "      <td>138</td>\n",
              "      <td>24</td>\n",
              "    </tr>\n",
              "    <tr>\n",
              "      <th>1</th>\n",
              "      <td>141</td>\n",
              "      <td>110</td>\n",
              "      <td>24</td>\n",
              "    </tr>\n",
              "  </tbody>\n",
              "</table>\n",
              "</div>"
            ],
            "text/plain": [
              "During_covid    0    1   2\n",
              "Gender                    \n",
              "0             211  138  24\n",
              "1             141  110  24"
            ]
          },
          "metadata": {
            "tags": []
          },
          "execution_count": 83
        }
      ]
    },
    {
      "cell_type": "code",
      "metadata": {
        "id": "YpAtL2ING6Wu",
        "colab": {
          "base_uri": "https://localhost:8080/",
          "height": 418
        },
        "outputId": "930d2e2d-bec0-4de8-f32f-df0bc67898f8"
      },
      "source": [
        "a = sns.barplot(x='Subject',y='Assurance',hue=dataset['Performance'],data=data,palette='copper')\n",
        "a.set_xticklabels(['Science','Arts','Commerce','Technical','Medical'])"
      ],
      "execution_count": null,
      "outputs": [
        {
          "output_type": "execute_result",
          "data": {
            "text/plain": [
              "[Text(0, 0, 'Science'),\n",
              " Text(0, 0, 'Arts'),\n",
              " Text(0, 0, 'Commerce'),\n",
              " Text(0, 0, 'Technical'),\n",
              " Text(0, 0, 'Medical')]"
            ]
          },
          "metadata": {
            "tags": []
          },
          "execution_count": 116
        },
        {
          "output_type": "display_data",
          "data": {
            "image/png": "[encoded data removed]",
            "text/plain": [
              "<Figure size 720x360 with 1 Axes>"
            ]
          },
          "metadata": {
            "tags": [],
            "needs_background": "light"
          }
        }
      ]
    },
    {
      "cell_type": "code",
      "metadata": {
        "id": "R_HxgIqiDoIX"
      },
      "source": [
        ""
      ],
      "execution_count": null,
      "outputs": []
    },
    {
      "cell_type": "code",
      "metadata": {
        "id": "zBajX_i8B8kQ",
        "colab": {
          "base_uri": "https://localhost:8080/",
          "height": 386
        },
        "outputId": "3b4ba663-a41e-4d24-9400-87f571bcc71d"
      },
      "source": [
        "a = sns.barplot(x='Online_with_instructions',y='Online_without_instructions',hue=dataset['Institute'],data=data,palette='winter')\n",
        "a.set_xticklabels(['less than 4 hrs','4-7 hrs','above 7 hrs'])"
      ],
      "execution_count": null,
      "outputs": [
        {
          "output_type": "execute_result",
          "data": {
            "text/plain": [
              "[Text(0, 0, 'less than 4 hrs'),\n",
              " Text(0, 0, '4-7 hrs'),\n",
              " Text(0, 0, 'above 7 hrs')]"
            ]
          },
          "metadata": {
            "tags": []
          },
          "execution_count": 100
        },
        {
          "output_type": "display_data",
          "data": {
            "image/png": "[encoded data removed]",
            "text/plain": [
              "<Figure size 720x360 with 1 Axes>"
            ]
          },
          "metadata": {
            "tags": []
          }
        }
      ]
    },
    {
      "cell_type": "code",
      "metadata": {
        "id": "jxP7Y3JdB895",
        "colab": {
          "base_uri": "https://localhost:8080/",
          "height": 389
        },
        "outputId": "20d73b7e-a32d-4427-ae52-8cabf0b62a2d"
      },
      "source": [
        "a = sns.barplot(x='Offline_with_instructions',y='Offline_without_instructions',hue=dataset['Institute'],data=data,palette='winter')\n",
        "a.set_xticklabels(['less than 4 hrs','4-7 hrs','above 7 hrs'])"
      ],
      "execution_count": null,
      "outputs": [
        {
          "output_type": "execute_result",
          "data": {
            "text/plain": [
              "[Text(0, 0, 'less than 4 hrs'),\n",
              " Text(0, 0, '4-7 hrs'),\n",
              " Text(0, 0, 'above 7 hrs')]"
            ]
          },
          "metadata": {
            "tags": []
          },
          "execution_count": 101
        },
        {
          "output_type": "display_data",
          "data": {
            "image/png": "[encoded data removed]",
            "text/plain": [
              "<Figure size 720x360 with 1 Axes>"
            ]
          },
          "metadata": {
            "tags": []
          }
        }
      ]
    },
    {
      "cell_type": "code",
      "metadata": {
        "id": "s3jOqZESHX6O"
      },
      "source": [
        ""
      ],
      "execution_count": null,
      "outputs": []
    }
  ]
}