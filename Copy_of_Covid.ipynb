{
  "nbformat": 4,
  "nbformat_minor": 0,
  "metadata": {
    "colab": {
      "name": "Copy of Covid.ipynb",
      "provenance": []
    },
    "kernelspec": {
      "name": "python3",
      "display_name": "Python 3"
    },
    "accelerator": "GPU"
  },
  "cells": [
    {
      "cell_type": "code",
      "metadata": {
        "id": "WbnXYnwQtRIw"
      },
      "source": [
        "import pandas as pd\n",
        "import matplotlib.pyplot as plot\n",
        "import seaborn as sns"
      ],
      "execution_count": null,
      "outputs": []
    },
    {
      "cell_type": "code",
      "metadata": {
        "id": "mFjPwyPetk6x",
        "colab": {
          "base_uri": "https://localhost:8080/",
          "height": 1000
        },
        "outputId": "2fff5ef4-11cd-4adb-e4d7-3bb2527de29c"
      },
      "source": [
        "dataset = pd.read_csv(\"/content/covid_new.csv\")\n",
        "dataset"
      ],
      "execution_count": null,
      "outputs": [
        {
          "output_type": "execute_result",
          "data": {
            "text/html": [
              "<div>\n",
              "<style scoped>\n",
              "    .dataframe tbody tr th:only-of-type {\n",
              "        vertical-align: middle;\n",
              "    }\n",
              "\n",
              "    .dataframe tbody tr th {\n",
              "        vertical-align: top;\n",
              "    }\n",
              "\n",
              "    .dataframe thead th {\n",
              "        text-align: right;\n",
              "    }\n",
              "</style>\n",
              "<table border=\"1\" class=\"dataframe\">\n",
              "  <thead>\n",
              "    <tr style=\"text-align: right;\">\n",
              "      <th></th>\n",
              "      <th>Gender</th>\n",
              "      <th>Standard</th>\n",
              "      <th>Institute</th>\n",
              "      <th>Subject</th>\n",
              "      <th>Performance</th>\n",
              "      <th>Before_covid</th>\n",
              "      <th>During_covid</th>\n",
              "      <th>During_online</th>\n",
              "      <th>Online_with_instructions</th>\n",
              "      <th>Online_without_instructions</th>\n",
              "      <th>During_offline</th>\n",
              "      <th>Offline_with_instructions</th>\n",
              "      <th>Offline_without_instructions</th>\n",
              "      <th>Assurance</th>\n",
              "    </tr>\n",
              "  </thead>\n",
              "  <tbody>\n",
              "    <tr>\n",
              "      <th>0</th>\n",
              "      <td>Female</td>\n",
              "      <td>College Level ( 1st /2nd /3rd /4th ) year</td>\n",
              "      <td>Public</td>\n",
              "      <td>Technical</td>\n",
              "      <td>Excellent</td>\n",
              "      <td>less than  4 hrs</td>\n",
              "      <td>4-7 hrs</td>\n",
              "      <td>above 7 hrs</td>\n",
              "      <td>4-7 hrs</td>\n",
              "      <td>4-7 hrs</td>\n",
              "      <td>less than 4 hrs</td>\n",
              "      <td>less than 4 hrs</td>\n",
              "      <td>4-7 hrs</td>\n",
              "      <td>Agree</td>\n",
              "    </tr>\n",
              "    <tr>\n",
              "      <th>1</th>\n",
              "      <td>Male</td>\n",
              "      <td>College Level ( 1st /2nd /3rd /4th ) year</td>\n",
              "      <td>Private</td>\n",
              "      <td>Science</td>\n",
              "      <td>Excellent</td>\n",
              "      <td>4-7 hrs</td>\n",
              "      <td>less than  4 hrs</td>\n",
              "      <td>less than 4 hrs</td>\n",
              "      <td>less than 4 hrs</td>\n",
              "      <td>less than 4 hrs</td>\n",
              "      <td>4-7 hrs</td>\n",
              "      <td>less than 4 hrs</td>\n",
              "      <td>4-7 hrs</td>\n",
              "      <td>Agree</td>\n",
              "    </tr>\n",
              "    <tr>\n",
              "      <th>2</th>\n",
              "      <td>Female</td>\n",
              "      <td>College Level ( 1st /2nd /3rd /4th ) year</td>\n",
              "      <td>Private</td>\n",
              "      <td>Commerce</td>\n",
              "      <td>Good</td>\n",
              "      <td>less than  4 hrs</td>\n",
              "      <td>less than  4 hrs</td>\n",
              "      <td>4-7 hrs</td>\n",
              "      <td>4-7 hrs</td>\n",
              "      <td>less than 4 hrs</td>\n",
              "      <td>less than 4 hrs</td>\n",
              "      <td>less than 4 hrs</td>\n",
              "      <td>less than 4 hrs</td>\n",
              "      <td>Neither agree nor disagree</td>\n",
              "    </tr>\n",
              "    <tr>\n",
              "      <th>3</th>\n",
              "      <td>Female</td>\n",
              "      <td>College Level ( 1st /2nd /3rd /4th ) year</td>\n",
              "      <td>Private</td>\n",
              "      <td>Commerce</td>\n",
              "      <td>Good</td>\n",
              "      <td>less than  4 hrs</td>\n",
              "      <td>less than  4 hrs</td>\n",
              "      <td>less than 4 hrs</td>\n",
              "      <td>4-7 hrs</td>\n",
              "      <td>less than 4 hrs</td>\n",
              "      <td>less than 4 hrs</td>\n",
              "      <td>4-7 hrs</td>\n",
              "      <td>less than 4 hrs</td>\n",
              "      <td>Neither agree nor disagree</td>\n",
              "    </tr>\n",
              "    <tr>\n",
              "      <th>4</th>\n",
              "      <td>Male</td>\n",
              "      <td>College Level ( 1st /2nd /3rd /4th ) year</td>\n",
              "      <td>Private</td>\n",
              "      <td>Commerce</td>\n",
              "      <td>Good</td>\n",
              "      <td>less than  4 hrs</td>\n",
              "      <td>less than  4 hrs</td>\n",
              "      <td>less than 4 hrs</td>\n",
              "      <td>4-7 hrs</td>\n",
              "      <td>less than 4 hrs</td>\n",
              "      <td>less than 4 hrs</td>\n",
              "      <td>less than 4 hrs</td>\n",
              "      <td>less than 4 hrs</td>\n",
              "      <td>Agree</td>\n",
              "    </tr>\n",
              "    <tr>\n",
              "      <th>...</th>\n",
              "      <td>...</td>\n",
              "      <td>...</td>\n",
              "      <td>...</td>\n",
              "      <td>...</td>\n",
              "      <td>...</td>\n",
              "      <td>...</td>\n",
              "      <td>...</td>\n",
              "      <td>...</td>\n",
              "      <td>...</td>\n",
              "      <td>...</td>\n",
              "      <td>...</td>\n",
              "      <td>...</td>\n",
              "      <td>...</td>\n",
              "      <td>...</td>\n",
              "    </tr>\n",
              "    <tr>\n",
              "      <th>643</th>\n",
              "      <td>Female</td>\n",
              "      <td>College Level ( 1st /2nd /3rd /4th ) year</td>\n",
              "      <td>Private</td>\n",
              "      <td>Technical</td>\n",
              "      <td>Good</td>\n",
              "      <td>4-7 hrs</td>\n",
              "      <td>less than  4 hrs</td>\n",
              "      <td>4-7 hrs</td>\n",
              "      <td>above 7 hrs</td>\n",
              "      <td>less than 4 hrs</td>\n",
              "      <td>less than 4 hrs</td>\n",
              "      <td>less than 4 hrs</td>\n",
              "      <td>less than 4 hrs</td>\n",
              "      <td>Agree</td>\n",
              "    </tr>\n",
              "    <tr>\n",
              "      <th>644</th>\n",
              "      <td>Male</td>\n",
              "      <td>College Level ( 1st /2nd /3rd /4th ) year</td>\n",
              "      <td>Private</td>\n",
              "      <td>Technical</td>\n",
              "      <td>Good</td>\n",
              "      <td>4-7 hrs</td>\n",
              "      <td>less than  4 hrs</td>\n",
              "      <td>less than 4 hrs</td>\n",
              "      <td>less than 4 hrs</td>\n",
              "      <td>less than 4 hrs</td>\n",
              "      <td>4-7 hrs</td>\n",
              "      <td>4-7 hrs</td>\n",
              "      <td>above 7 hrs</td>\n",
              "      <td>Neither agree nor disagree</td>\n",
              "    </tr>\n",
              "    <tr>\n",
              "      <th>645</th>\n",
              "      <td>Female</td>\n",
              "      <td>College Level ( 1st /2nd /3rd /4th ) year</td>\n",
              "      <td>Private</td>\n",
              "      <td>Science</td>\n",
              "      <td>Average</td>\n",
              "      <td>4-7 hrs</td>\n",
              "      <td>less than  4 hrs</td>\n",
              "      <td>less than 4 hrs</td>\n",
              "      <td>less than 4 hrs</td>\n",
              "      <td>less than 4 hrs</td>\n",
              "      <td>less than 4 hrs</td>\n",
              "      <td>less than 4 hrs</td>\n",
              "      <td>less than 4 hrs</td>\n",
              "      <td>Agree</td>\n",
              "    </tr>\n",
              "    <tr>\n",
              "      <th>646</th>\n",
              "      <td>Female</td>\n",
              "      <td>College Level ( 1st /2nd /3rd /4th ) year</td>\n",
              "      <td>Private</td>\n",
              "      <td>Science</td>\n",
              "      <td>Average</td>\n",
              "      <td>4-7 hrs</td>\n",
              "      <td>less than  4 hrs</td>\n",
              "      <td>less than 4 hrs</td>\n",
              "      <td>less than 4 hrs</td>\n",
              "      <td>less than 4 hrs</td>\n",
              "      <td>less than 4 hrs</td>\n",
              "      <td>less than 4 hrs</td>\n",
              "      <td>less than 4 hrs</td>\n",
              "      <td>Agree</td>\n",
              "    </tr>\n",
              "    <tr>\n",
              "      <th>647</th>\n",
              "      <td>Female</td>\n",
              "      <td>College Level ( 1st /2nd /3rd /4th ) year</td>\n",
              "      <td>Private</td>\n",
              "      <td>Technical</td>\n",
              "      <td>Good</td>\n",
              "      <td>less than  4 hrs</td>\n",
              "      <td>4-7 hrs</td>\n",
              "      <td>4-7 hrs</td>\n",
              "      <td>4-7 hrs</td>\n",
              "      <td>less than 4 hrs</td>\n",
              "      <td>less than 4 hrs</td>\n",
              "      <td>less than 4 hrs</td>\n",
              "      <td>less than 4 hrs</td>\n",
              "      <td>Neither agree nor disagree</td>\n",
              "    </tr>\n",
              "  </tbody>\n",
              "</table>\n",
              "<p>648 rows × 14 columns</p>\n",
              "</div>"
            ],
            "text/plain": [
              "     Gender  ...                   Assurance\n",
              "0    Female  ...                       Agree\n",
              "1      Male  ...                       Agree\n",
              "2    Female  ...  Neither agree nor disagree\n",
              "3    Female  ...  Neither agree nor disagree\n",
              "4      Male  ...                       Agree\n",
              "..      ...  ...                         ...\n",
              "643  Female  ...                       Agree\n",
              "644    Male  ...  Neither agree nor disagree\n",
              "645  Female  ...                       Agree\n",
              "646  Female  ...                       Agree\n",
              "647  Female  ...  Neither agree nor disagree\n",
              "\n",
              "[648 rows x 14 columns]"
            ]
          },
          "metadata": {
            "tags": []
          },
          "execution_count": 2
        }
      ]
    },
    {
      "cell_type": "code",
      "metadata": {
        "id": "IawXNnnpuDnf",
        "colab": {
          "base_uri": "https://localhost:8080/",
          "height": 33
        },
        "outputId": "5a3cc197-6613-41ca-b129-feee01aa5524"
      },
      "source": [
        "dataset.isnull().any().any()"
      ],
      "execution_count": null,
      "outputs": [
        {
          "output_type": "execute_result",
          "data": {
            "text/plain": [
              "False"
            ]
          },
          "metadata": {
            "tags": []
          },
          "execution_count": 3
        }
      ]
    },
    {
      "cell_type": "code",
      "metadata": {
        "id": "GEU-RPGzxCVJ",
        "colab": {
          "base_uri": "https://localhost:8080/",
          "height": 33
        },
        "outputId": "0ce2cb09-f05a-46ed-956b-1d70a284583d"
      },
      "source": [
        "type(dataset)"
      ],
      "execution_count": null,
      "outputs": [
        {
          "output_type": "execute_result",
          "data": {
            "text/plain": [
              "pandas.core.frame.DataFrame"
            ]
          },
          "metadata": {
            "tags": []
          },
          "execution_count": 4
        }
      ]
    },
    {
      "cell_type": "code",
      "metadata": {
        "id": "4bjnAGieyn8K",
        "colab": {
          "base_uri": "https://localhost:8080/",
          "height": 247
        },
        "outputId": "5aa9a580-d785-46f2-f725-d460370ae242"
      },
      "source": [
        "dataset.describe()"
      ],
      "execution_count": null,
      "outputs": [
        {
          "output_type": "execute_result",
          "data": {
            "text/html": [
              "<div>\n",
              "<style scoped>\n",
              "    .dataframe tbody tr th:only-of-type {\n",
              "        vertical-align: middle;\n",
              "    }\n",
              "\n",
              "    .dataframe tbody tr th {\n",
              "        vertical-align: top;\n",
              "    }\n",
              "\n",
              "    .dataframe thead th {\n",
              "        text-align: right;\n",
              "    }\n",
              "</style>\n",
              "<table border=\"1\" class=\"dataframe\">\n",
              "  <thead>\n",
              "    <tr style=\"text-align: right;\">\n",
              "      <th></th>\n",
              "      <th>Gender</th>\n",
              "      <th>Standard</th>\n",
              "      <th>Institute</th>\n",
              "      <th>Subject</th>\n",
              "      <th>Performance</th>\n",
              "      <th>Before_covid</th>\n",
              "      <th>During_covid</th>\n",
              "      <th>During_online</th>\n",
              "      <th>Online_with_instructions</th>\n",
              "      <th>Online_without_instructions</th>\n",
              "      <th>During_offline</th>\n",
              "      <th>Offline_with_instructions</th>\n",
              "      <th>Offline_without_instructions</th>\n",
              "      <th>Assurance</th>\n",
              "    </tr>\n",
              "  </thead>\n",
              "  <tbody>\n",
              "    <tr>\n",
              "      <th>count</th>\n",
              "      <td>648</td>\n",
              "      <td>648</td>\n",
              "      <td>648</td>\n",
              "      <td>648</td>\n",
              "      <td>648</td>\n",
              "      <td>648</td>\n",
              "      <td>648</td>\n",
              "      <td>648</td>\n",
              "      <td>648</td>\n",
              "      <td>648</td>\n",
              "      <td>648</td>\n",
              "      <td>648</td>\n",
              "      <td>648</td>\n",
              "      <td>648</td>\n",
              "    </tr>\n",
              "    <tr>\n",
              "      <th>unique</th>\n",
              "      <td>2</td>\n",
              "      <td>3</td>\n",
              "      <td>3</td>\n",
              "      <td>5</td>\n",
              "      <td>4</td>\n",
              "      <td>3</td>\n",
              "      <td>3</td>\n",
              "      <td>5</td>\n",
              "      <td>3</td>\n",
              "      <td>3</td>\n",
              "      <td>3</td>\n",
              "      <td>3</td>\n",
              "      <td>3</td>\n",
              "      <td>5</td>\n",
              "    </tr>\n",
              "    <tr>\n",
              "      <th>top</th>\n",
              "      <td>Male</td>\n",
              "      <td>College Level ( 1st /2nd /3rd /4th ) year</td>\n",
              "      <td>Private</td>\n",
              "      <td>Technical</td>\n",
              "      <td>Good</td>\n",
              "      <td>less than  4 hrs</td>\n",
              "      <td>less than  4 hrs</td>\n",
              "      <td>4-7 hrs</td>\n",
              "      <td>4-7 hrs</td>\n",
              "      <td>less than 4 hrs</td>\n",
              "      <td>less than 4 hrs</td>\n",
              "      <td>less than 4 hrs</td>\n",
              "      <td>less than 4 hrs</td>\n",
              "      <td>Agree</td>\n",
              "    </tr>\n",
              "    <tr>\n",
              "      <th>freq</th>\n",
              "      <td>373</td>\n",
              "      <td>631</td>\n",
              "      <td>505</td>\n",
              "      <td>430</td>\n",
              "      <td>333</td>\n",
              "      <td>429</td>\n",
              "      <td>352</td>\n",
              "      <td>406</td>\n",
              "      <td>428</td>\n",
              "      <td>477</td>\n",
              "      <td>520</td>\n",
              "      <td>515</td>\n",
              "      <td>519</td>\n",
              "      <td>351</td>\n",
              "    </tr>\n",
              "  </tbody>\n",
              "</table>\n",
              "</div>"
            ],
            "text/plain": [
              "       Gender  ... Assurance\n",
              "count     648  ...       648\n",
              "unique      2  ...         5\n",
              "top      Male  ...     Agree\n",
              "freq      373  ...       351\n",
              "\n",
              "[4 rows x 14 columns]"
            ]
          },
          "metadata": {
            "tags": []
          },
          "execution_count": 5
        }
      ]
    },
    {
      "cell_type": "code",
      "metadata": {
        "id": "4Y88L3DOKhW6"
      },
      "source": [
        "import seaborn as sns"
      ],
      "execution_count": null,
      "outputs": []
    },
    {
      "cell_type": "code",
      "metadata": {
        "id": "osUBH85uKtYd",
        "colab": {
          "base_uri": "https://localhost:8080/",
          "height": 261
        },
        "outputId": "e8418de3-101d-4b0a-f56e-dd6c2d5fdd07"
      },
      "source": [
        "dataset.dtypes"
      ],
      "execution_count": null,
      "outputs": [
        {
          "output_type": "execute_result",
          "data": {
            "text/plain": [
              "Gender                          object\n",
              "Standard                        object\n",
              "Institute                       object\n",
              "Subject                         object\n",
              "Performance                     object\n",
              "Before_covid                    object\n",
              "During_covid                    object\n",
              "During_online                   object\n",
              "Online_with_instructions        object\n",
              "Online_without_instructions     object\n",
              "During_offline                  object\n",
              "Offline_with_instructions       object\n",
              "Offline_without_instructions    object\n",
              "Assurance                       object\n",
              "dtype: object"
            ]
          },
          "metadata": {
            "tags": []
          },
          "execution_count": 7
        }
      ]
    },
    {
      "cell_type": "code",
      "metadata": {
        "id": "fvSN_Qs6Ktfr"
      },
      "source": [
        "dataset['During_online'].replace(to_replace=r'1', value='less than 4 hrs',inplace = True)\n",
        "dataset['During_online'].replace(to_replace=r'3 hrs', value='less than 4 hrs',inplace = True)"
      ],
      "execution_count": null,
      "outputs": []
    },
    {
      "cell_type": "code",
      "metadata": {
        "id": "ZDDwxAPFKtoj",
        "colab": {
          "base_uri": "https://localhost:8080/",
          "height": 82
        },
        "outputId": "d8c86404-f8db-4048-ee87-02f7c96adee8"
      },
      "source": [
        "dataset['During_online'].value_counts()"
      ],
      "execution_count": null,
      "outputs": [
        {
          "output_type": "execute_result",
          "data": {
            "text/plain": [
              "4-7 hrs            406\n",
              "less than 4 hrs    159\n",
              "above 7 hrs         83\n",
              "Name: During_online, dtype: int64"
            ]
          },
          "metadata": {
            "tags": []
          },
          "execution_count": 9
        }
      ]
    },
    {
      "cell_type": "code",
      "metadata": {
        "id": "dr5boE_iKtNZ",
        "colab": {
          "base_uri": "https://localhost:8080/",
          "height": 488
        },
        "outputId": "41baa37c-5cd8-4617-87ee-5313b76221f5"
      },
      "source": [
        "for column in dataset.select_dtypes(include='object').columns:\n",
        "    print(column)\n",
        "    \n",
        "    print(dataset[column].unique())"
      ],
      "execution_count": null,
      "outputs": [
        {
          "output_type": "stream",
          "text": [
            "Gender\n",
            "['Female' 'Male']\n",
            "Standard\n",
            "['College Level ( 1st /2nd /3rd /4th ) year' '09-Dec' '05-Aug']\n",
            "Institute\n",
            "['Public' 'Private' 'International']\n",
            "Subject\n",
            "['Technical' 'Science' 'Commerce' 'Arts' 'Medical']\n",
            "Performance\n",
            "['Excellent' 'Good' 'Average' 'Below Average']\n",
            "Before_covid\n",
            "['less than  4 hrs' '4-7 hrs' 'above 7 hrs']\n",
            "During_covid\n",
            "['4-7 hrs' 'less than  4 hrs' 'above 7 hrs']\n",
            "During_online\n",
            "['above 7 hrs' 'less than 4 hrs' '4-7 hrs']\n",
            "Online_with_instructions\n",
            "['4-7 hrs' 'less than 4 hrs' 'above 7 hrs']\n",
            "Online_without_instructions\n",
            "['4-7 hrs' 'less than 4 hrs' 'above 7 hrs']\n",
            "During_offline\n",
            "['less than 4 hrs' '4-7 hrs' 'above 7 hrs']\n",
            "Offline_with_instructions\n",
            "['less than 4 hrs' '4-7 hrs' 'above 7 hrs']\n",
            "Offline_without_instructions\n",
            "['4-7 hrs' 'less than 4 hrs' 'above 7 hrs']\n",
            "Assurance\n",
            "['Agree' 'Neither agree nor disagree' 'Strongly Agree' 'Disagree'\n",
            " 'Strongly disagree']\n"
          ],
          "name": "stdout"
        }
      ]
    },
    {
      "cell_type": "code",
      "metadata": {
        "id": "Sj-bqQUlMgX3"
      },
      "source": [
        "data = pd.read_csv(\"/content/covid_new.csv\")"
      ],
      "execution_count": null,
      "outputs": []
    },
    {
      "cell_type": "code",
      "metadata": {
        "id": "S55RroJYMgwr"
      },
      "source": [
        "data['During_online'].replace(to_replace=r'1', value='less than 4 hrs',inplace = True)\n",
        "data['During_online'].replace(to_replace=r'3 hrs', value='less than 4 hrs',inplace = True)"
      ],
      "execution_count": null,
      "outputs": []
    },
    {
      "cell_type": "code",
      "metadata": {
        "id": "pvK5FX7fMgk5"
      },
      "source": [
        "dict_gen = {'Male':0,                           #replacing the string with values\n",
        "         'Female':1}\n",
        "data['Gender'].replace(dict_gen,inplace=True)"
      ],
      "execution_count": null,
      "outputs": []
    },
    {
      "cell_type": "code",
      "metadata": {
        "id": "pTlS0152NjTm"
      },
      "source": [
        "dict_std = {'05-Aug':0,                           #replacing the string with values\n",
        "         '09-Dec':1,\n",
        "          'College Level ( 1st /2nd /3rd /4th ) year':2}\n",
        "data['Standard'].replace(dict_std,inplace=True)"
      ],
      "execution_count": null,
      "outputs": []
    },
    {
      "cell_type": "code",
      "metadata": {
        "id": "7CqP2jNoNn0d",
        "colab": {
          "base_uri": "https://localhost:8080/",
          "height": 212
        },
        "outputId": "840e05f8-42b9-4741-94ae-facffb8af765"
      },
      "source": [
        "dataset['Standard']"
      ],
      "execution_count": null,
      "outputs": [
        {
          "output_type": "execute_result",
          "data": {
            "text/plain": [
              "0      College Level ( 1st /2nd /3rd /4th ) year\n",
              "1      College Level ( 1st /2nd /3rd /4th ) year\n",
              "2      College Level ( 1st /2nd /3rd /4th ) year\n",
              "3      College Level ( 1st /2nd /3rd /4th ) year\n",
              "4      College Level ( 1st /2nd /3rd /4th ) year\n",
              "                         ...                    \n",
              "643    College Level ( 1st /2nd /3rd /4th ) year\n",
              "644    College Level ( 1st /2nd /3rd /4th ) year\n",
              "645    College Level ( 1st /2nd /3rd /4th ) year\n",
              "646    College Level ( 1st /2nd /3rd /4th ) year\n",
              "647    College Level ( 1st /2nd /3rd /4th ) year\n",
              "Name: Standard, Length: 648, dtype: object"
            ]
          },
          "metadata": {
            "tags": []
          },
          "execution_count": 15
        }
      ]
    },
    {
      "cell_type": "code",
      "metadata": {
        "id": "8kb3_UkSNnqC",
        "colab": {
          "base_uri": "https://localhost:8080/",
          "height": 162
        },
        "outputId": "5c370986-050c-4c4c-918d-7971bccaa11d"
      },
      "source": [
        "pd.crosstab(data['Before_covid'], data['Subject'])"
      ],
      "execution_count": null,
      "outputs": [
        {
          "output_type": "execute_result",
          "data": {
            "text/html": [
              "<div>\n",
              "<style scoped>\n",
              "    .dataframe tbody tr th:only-of-type {\n",
              "        vertical-align: middle;\n",
              "    }\n",
              "\n",
              "    .dataframe tbody tr th {\n",
              "        vertical-align: top;\n",
              "    }\n",
              "\n",
              "    .dataframe thead th {\n",
              "        text-align: right;\n",
              "    }\n",
              "</style>\n",
              "<table border=\"1\" class=\"dataframe\">\n",
              "  <thead>\n",
              "    <tr style=\"text-align: right;\">\n",
              "      <th>Subject</th>\n",
              "      <th>Arts</th>\n",
              "      <th>Commerce</th>\n",
              "      <th>Medical</th>\n",
              "      <th>Science</th>\n",
              "      <th>Technical</th>\n",
              "    </tr>\n",
              "    <tr>\n",
              "      <th>Before_covid</th>\n",
              "      <th></th>\n",
              "      <th></th>\n",
              "      <th></th>\n",
              "      <th></th>\n",
              "      <th></th>\n",
              "    </tr>\n",
              "  </thead>\n",
              "  <tbody>\n",
              "    <tr>\n",
              "      <th>4-7 hrs</th>\n",
              "      <td>2</td>\n",
              "      <td>15</td>\n",
              "      <td>1</td>\n",
              "      <td>45</td>\n",
              "      <td>135</td>\n",
              "    </tr>\n",
              "    <tr>\n",
              "      <th>above 7 hrs</th>\n",
              "      <td>1</td>\n",
              "      <td>3</td>\n",
              "      <td>0</td>\n",
              "      <td>6</td>\n",
              "      <td>11</td>\n",
              "    </tr>\n",
              "    <tr>\n",
              "      <th>less than  4 hrs</th>\n",
              "      <td>11</td>\n",
              "      <td>40</td>\n",
              "      <td>4</td>\n",
              "      <td>90</td>\n",
              "      <td>284</td>\n",
              "    </tr>\n",
              "  </tbody>\n",
              "</table>\n",
              "</div>"
            ],
            "text/plain": [
              "Subject           Arts  Commerce  Medical  Science  Technical\n",
              "Before_covid                                                 \n",
              "4-7 hrs              2        15        1       45        135\n",
              "above 7 hrs          1         3        0        6         11\n",
              "less than  4 hrs    11        40        4       90        284"
            ]
          },
          "metadata": {
            "tags": []
          },
          "execution_count": 19
        }
      ]
    },
    {
      "cell_type": "code",
      "metadata": {
        "id": "1zIt9ju0aSp7",
        "colab": {
          "base_uri": "https://localhost:8080/",
          "height": 133
        },
        "outputId": "3db9524e-adc5-4c38-e791-a54beabc31f0"
      },
      "source": [
        "pd.crosstab(data['Gender'], data['Before_covid'])"
      ],
      "execution_count": null,
      "outputs": [
        {
          "output_type": "execute_result",
          "data": {
            "text/html": [
              "<div>\n",
              "<style scoped>\n",
              "    .dataframe tbody tr th:only-of-type {\n",
              "        vertical-align: middle;\n",
              "    }\n",
              "\n",
              "    .dataframe tbody tr th {\n",
              "        vertical-align: top;\n",
              "    }\n",
              "\n",
              "    .dataframe thead th {\n",
              "        text-align: right;\n",
              "    }\n",
              "</style>\n",
              "<table border=\"1\" class=\"dataframe\">\n",
              "  <thead>\n",
              "    <tr style=\"text-align: right;\">\n",
              "      <th>Before_covid</th>\n",
              "      <th>4-7 hrs</th>\n",
              "      <th>above 7 hrs</th>\n",
              "      <th>less than  4 hrs</th>\n",
              "    </tr>\n",
              "    <tr>\n",
              "      <th>Gender</th>\n",
              "      <th></th>\n",
              "      <th></th>\n",
              "      <th></th>\n",
              "    </tr>\n",
              "  </thead>\n",
              "  <tbody>\n",
              "    <tr>\n",
              "      <th>0</th>\n",
              "      <td>106</td>\n",
              "      <td>10</td>\n",
              "      <td>257</td>\n",
              "    </tr>\n",
              "    <tr>\n",
              "      <th>1</th>\n",
              "      <td>92</td>\n",
              "      <td>11</td>\n",
              "      <td>172</td>\n",
              "    </tr>\n",
              "  </tbody>\n",
              "</table>\n",
              "</div>"
            ],
            "text/plain": [
              "Before_covid  4-7 hrs  above 7 hrs  less than  4 hrs\n",
              "Gender                                              \n",
              "0                 106           10               257\n",
              "1                  92           11               172"
            ]
          },
          "metadata": {
            "tags": []
          },
          "execution_count": 17
        }
      ]
    },
    {
      "cell_type": "code",
      "metadata": {
        "id": "ioSydLPKcEwC"
      },
      "source": [
        ""
      ],
      "execution_count": null,
      "outputs": []
    }
  ]
}